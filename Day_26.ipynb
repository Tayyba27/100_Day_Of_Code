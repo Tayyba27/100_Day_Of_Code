{
 "cells": [
  {
   "cell_type": "markdown",
   "metadata": {},
   "source": [
    "# Day_26\n",
    "#### Intermediate - List Comprehension and NATO Alphabet"
   ]
  },
  {
   "cell_type": "code",
   "execution_count": 3,
   "metadata": {},
   "outputs": [
    {
     "name": "stdout",
     "output_type": "stream",
     "text": [
      "4\n"
     ]
    }
   ],
   "source": [
    "# How to create the List using List Comprehension\n",
    "\n",
    "# for loop\n",
    "number = [ 1,2,3]\n",
    "new_list = []\n",
    "for n in number:\n",
    "    add_1 = n+1 \n",
    "new_list.append(add_1) \n",
    "print(add_1)   \n"
   ]
  },
  {
   "cell_type": "code",
   "execution_count": 5,
   "metadata": {},
   "outputs": [
    {
     "name": "stdout",
     "output_type": "stream",
     "text": [
      "[4, 4, 4]\n"
     ]
    }
   ],
   "source": [
    "new_list = [add_1 for n in number]\n",
    "print(new_list)"
   ]
  },
  {
   "cell_type": "code",
   "execution_count": 7,
   "metadata": {},
   "outputs": [
    {
     "name": "stdout",
     "output_type": "stream",
     "text": [
      "[5, 5, 5]\n"
     ]
    }
   ],
   "source": [
    "numbers = [ 1,2 ,3]\n",
    "add = n+2\n",
    "new_number = [ add for n in numbers]\n",
    "print(new_number)"
   ]
  },
  {
   "cell_type": "code",
   "execution_count": 10,
   "metadata": {},
   "outputs": [
    {
     "name": "stdout",
     "output_type": "stream",
     "text": [
      "['T', 'a', 'y', 'y', 'a', 'b', 'a']\n"
     ]
    }
   ],
   "source": [
    "name = \"Tayyaba\"\n",
    "new_list = [letter for letter in name]\n",
    "print(new_list)\n",
    "\n"
   ]
  },
  {
   "cell_type": "markdown",
   "metadata": {},
   "source": [
    "# Python Sequence \n",
    "- list \n",
    "- range \n",
    "- string \n",
    "- tuple"
   ]
  },
  {
   "cell_type": "code",
   "execution_count": 16,
   "metadata": {},
   "outputs": [
    {
     "name": "stdout",
     "output_type": "stream",
     "text": [
      "[2, 4, 6, 8]\n"
     ]
    }
   ],
   "source": [
    "number = [1 , 3, 5, 7]\n",
    "new_list = [ n+ 1 for n in number]\n",
    "print(new_list)"
   ]
  },
  {
   "cell_type": "code",
   "execution_count": 21,
   "metadata": {},
   "outputs": [
    {
     "name": "stdout",
     "output_type": "stream",
     "text": [
      "[2, 4, 6, 8]\n"
     ]
    }
   ],
   "source": [
    "# create  a new lis from range , where the list items are double the value in range\n",
    "num = [1 , 2 , 3 ,4]\n",
    "range_list =[num * 2  for num in num]\n",
    "print(range_list)"
   ]
  },
  {
   "cell_type": "code",
   "execution_count": 27,
   "metadata": {},
   "outputs": [
    {
     "name": "stdout",
     "output_type": "stream",
     "text": [
      "['Kiran', 'Ayesha', 'Fatima', 'Merab', 'Ali']\n"
     ]
    }
   ],
   "source": [
    "# Conditional List Comprehension:\n",
    "names = [ \" Tayyaba\" , \"Kiran\" , \"Ayesha\" , \"Fatima\" , \"kashif\" , \"Ali\"]\n",
    "short_name= [name for name in names if len(name) < 7]\n",
    "print(short_name)"
   ]
  },
  {
   "cell_type": "code",
   "execution_count": 36,
   "metadata": {},
   "outputs": [
    {
     "name": "stdout",
     "output_type": "stream",
     "text": [
      "[' TAYYABA', 'AYESHA', 'FATIMA']\n"
     ]
    }
   ],
   "source": [
    "long_name = [name.upper() for name in names if len(name) == 6 or len(name) > 6]\n",
    "print(long_name)\n",
    "\n"
   ]
  },
  {
   "cell_type": "code",
   "execution_count": 38,
   "metadata": {},
   "outputs": [
    {
     "name": "stdout",
     "output_type": "stream",
     "text": [
      "[1, 1, 4, 9, 25, 64, 169, 441, 1156, 3025]\n"
     ]
    }
   ],
   "source": [
    "# Squared_numbers:\n",
    "numbers = [ 1,1,2,3,5,8,13 , 21 , 34 , 55]\n",
    "squared_numbers = [n * n for n in numbers ]\n",
    "print(squared_numbers)"
   ]
  },
  {
   "cell_type": "code",
   "execution_count": 40,
   "metadata": {},
   "outputs": [
    {
     "name": "stdout",
     "output_type": "stream",
     "text": [
      "[96]\n"
     ]
    }
   ],
   "source": [
    "# Filterering Even Numbers\n",
    "list_of_string = input().split( \" , \")\n",
    "\n",
    "# list comprehension to convert string into integers\n",
    "\n",
    "numbers= [ int(x) for x in list_of_string]\n",
    "\n",
    "result = [num for num in numbers if num % 2 == 0]\n",
    "\n",
    "print(result)\n"
   ]
  },
  {
   "cell_type": "code",
   "execution_count": 45,
   "metadata": {},
   "outputs": [
    {
     "name": "stdout",
     "output_type": "stream",
     "text": [
      "[]\n"
     ]
    }
   ],
   "source": [
    "# Data Overlap\n",
    "with open (\"file1.txt\") as file:\n",
    "    list1 = file.readlines()\n",
    "\n",
    "with open (\"file2.txt\") as file:\n",
    "    list2 = file.readlines()\n",
    "\n",
    "result = [int(num) for num in list1  if num in list2]\n",
    "\n",
    "print(result)\n"
   ]
  },
  {
   "cell_type": "code",
   "execution_count": null,
   "metadata": {},
   "outputs": [],
   "source": [
    "# Apply List Comprehension to U.S State Game\n",
    "import turtle \n",
    "import pandas as pd\n",
    "screen = turtle.Screen()\n",
    "screen.title(\"U.S State Game\")\n",
    "image = \"blank_states_img.gif\"\n",
    "\n",
    "screen.addshape(image)\n",
    "turtle.shape(image)\n",
    "\n",
    "data = pd.read_csv(\"50_states.csv\")\n",
    "all_state = data.state.to_list()\n",
    "guessed_states = []\n",
    "\n",
    "while len(guessed_states) <50 :\n",
    "    answer_state = screen.textinput(title = f\" {len(guessed_states)} / 50 States Correct\" , prompt = \" what's the another state 's name ?\")\n",
    "\n",
    "\n",
    "if answer_state == \"Exit\":\n",
    "    missing_state = [ state for state in all_state if state not in guessed_states]\n",
    "\n",
    "new_data = pd.DataFrame(missing_state)\n",
    "\n",
    "new_data.to_csv(\"State_to_learn.csv\")\n",
    "\n",
    "if answer_state in all_state:\n",
    "    guessed_states.append(answer_state)\n",
    "\n",
    "\n",
    "t = turtle.Turtle()\n",
    "t.hideturtle()\n",
    "t.penup()\n",
    "\n",
    "state_data = data[data.state == answer_state]\n",
    "\n",
    "t.goto(int(state_data.x)  , int(state_data.y))\n",
    "t.write(answer_state)\n"
   ]
  },
  {
   "cell_type": "markdown",
   "metadata": {},
   "source": [
    "# Dictionary Comprehension:\n",
    "- new_dict = {new_key : new_value for {key , value} in dict_items}\n",
    "\n",
    "# Conditional Dictionary Comprehension\n",
    "new_dict = {new_key : new_value for {key , value} in dict_items if test } "
   ]
  },
  {
   "cell_type": "code",
   "execution_count": 1,
   "metadata": {},
   "outputs": [
    {
     "name": "stdout",
     "output_type": "stream",
     "text": [
      "{' Tayyaba ': 97, ' Kashif': 43, ' Fatima ': 67, 'Merab': 2, 'Ali': 93}\n"
     ]
    }
   ],
   "source": [
    "import random\n",
    "names = [\" Tayyaba \" , \" Kashif\" , \" Fatima \" , \"Merab\" , \"Ali\"]\n",
    "student_scores = {student: random.randint(1 , 100)  for student in names}\n",
    "print(student_scores)"
   ]
  },
  {
   "cell_type": "code",
   "execution_count": null,
   "metadata": {},
   "outputs": [],
   "source": [
    "passed_student = {names: student_scores  for {names, student_scores} , in student_scores.items() if  student_scores >= 60 }"
   ]
  },
  {
   "cell_type": "code",
   "execution_count": 2,
   "metadata": {},
   "outputs": [
    {
     "name": "stdout",
     "output_type": "stream",
     "text": [
      "['enter']\n",
      "{}\n"
     ]
    }
   ],
   "source": [
    "sentence = input()\n",
    "result = {}\n",
    "print(sentence.split())\n",
    "print(result)"
   ]
  },
  {
   "cell_type": "code",
   "execution_count": 3,
   "metadata": {},
   "outputs": [
    {
     "name": "stdout",
     "output_type": "stream",
     "text": [
      "{'Tayyaba': 7, 'is': 2, 'Amazing': 7, 'girl.': 5}\n"
     ]
    }
   ],
   "source": [
    "sentence = input()\n",
    "result = {word: len(word) for word in sentence.split()}\n",
    "print(result)"
   ]
  },
  {
   "cell_type": "code",
   "execution_count": null,
   "metadata": {},
   "outputs": [],
   "source": [
    "# Dictionary Comprehence:\n",
    "weather_c = eval(input())\n",
    "\n",
    "weather_f = {}\n",
    "weather_f = {day: temp*9/5 +32  for (day , temp) in weather_c.items()}\n",
    "print(weather_f)"
   ]
  },
  {
   "cell_type": "markdown",
   "metadata": {},
   "source": [
    "# Final Project :\n",
    "#### NATO Alphabet Project:\n",
    "- Alpha, Bravo, Charlie, etc., are words used in spelling of the 26 letters of the Latin (resp. English) alphabet. They were designed to minimize the number of errors when spelling a series of letters during a radio transmission. The system is most commonly called the NATO phonetic alphabet. "
   ]
  },
  {
   "cell_type": "code",
   "execution_count": 8,
   "metadata": {},
   "outputs": [
    {
     "name": "stdout",
     "output_type": "stream",
     "text": [
      "{'A': 'Alfa', 'B': 'Bravo', 'C': 'Charlie', 'D': 'Delta', 'E': 'Echo', 'F': 'Foxtrot', 'G': 'Golf', 'H': 'Hotel', 'I': 'India', 'J': 'Juliet', 'K': 'Kilo', 'L': 'Lima', 'M': 'Mike', 'N': 'November', 'O': 'Oscar', 'P': 'Papa', 'Q': 'Quebec', 'R': 'Romeo', 'S': 'Sierra', 'T': 'Tango', 'U': 'Uniform', 'V': 'Victor', 'W': 'Whiskey', 'X': 'X-ray', 'Y': 'Yankee', 'Z': 'Zulu'}\n",
      "['Tango', 'Alfa', 'Yankee', 'Yankee', 'Alfa', 'Bravo', 'Alfa']\n"
     ]
    }
   ],
   "source": [
    "# Keyword method with iterrows()\n",
    "# {new_key : new_value for { index , row} in df.iterrows()}\n",
    "import pandas  as pd\n",
    "\n",
    "data = pd.read_csv(\"nato_phonetic_alphabet.csv\")\n",
    "\n",
    "\n",
    "# Create the dictionary:\n",
    "phonetic_dict = {row.letter:row.code for (index , row) in data.iterrows()}\n",
    "\n",
    "print(phonetic_dict)\n",
    "\n",
    "#  create a list of the phonetic  code word that the user input\n",
    "\n",
    "word = input(\"Enter a word: \").upper()\n",
    "output_list = [phonetic_dict[letter] for letter in word]\n",
    "\n",
    "print(output_list)\n"
   ]
  }
 ],
 "metadata": {
  "kernelspec": {
   "display_name": "Python 3",
   "language": "python",
   "name": "python3"
  },
  "language_info": {
   "codemirror_mode": {
    "name": "ipython",
    "version": 3
   },
   "file_extension": ".py",
   "mimetype": "text/x-python",
   "name": "python",
   "nbconvert_exporter": "python",
   "pygments_lexer": "ipython3",
   "version": "3.11.5"
  }
 },
 "nbformat": 4,
 "nbformat_minor": 2
}
