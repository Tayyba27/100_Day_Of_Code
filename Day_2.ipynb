{
 "cells": [
  {
   "cell_type": "markdown",
   "metadata": {},
   "source": [
    "# Data Type\n",
    "- String\n",
    "- Floating"
   ]
  },
  {
   "cell_type": "code",
   "execution_count": 1,
   "metadata": {},
   "outputs": [
    {
     "name": "stdout",
     "output_type": "stream",
     "text": [
      "Hello\n",
      "123456\n"
     ]
    }
   ],
   "source": [
    "# String\n",
    "\n",
    "\"Hello\"\n",
    "print(\"Hello\")\n",
    "\n",
    "print(\"123\"+\"456\")"
   ]
  },
  {
   "cell_type": "code",
   "execution_count": 2,
   "metadata": {},
   "outputs": [
    {
     "name": "stdout",
     "output_type": "stream",
     "text": [
      "689.76\n"
     ]
    }
   ],
   "source": [
    "# Floating (decimal numbers)\n",
    "print(689.76)"
   ]
  },
  {
   "cell_type": "code",
   "execution_count": 3,
   "metadata": {},
   "outputs": [
    {
     "data": {
      "text/plain": [
       "False"
      ]
     },
     "execution_count": 3,
     "metadata": {},
     "output_type": "execute_result"
    }
   ],
   "source": [
    "#   Booleans (eithers are Ture or False)\n",
    "True\n",
    "False"
   ]
  },
  {
   "cell_type": "code",
   "execution_count": 5,
   "metadata": {},
   "outputs": [
    {
     "name": "stdout",
     "output_type": "stream",
     "text": [
      "7\n"
     ]
    }
   ],
   "source": [
    "num_char = len(input(\"What is your name?\"))\n",
    "print(num_char)"
   ]
  },
  {
   "cell_type": "code",
   "execution_count": 4,
   "metadata": {},
   "outputs": [
    {
     "name": "stdout",
     "output_type": "stream",
     "text": [
      "<class 'int'>\n"
     ]
    }
   ],
   "source": [
    "num_char = len(input(\"What is your name?\"))\n",
    "print(type(num_char))"
   ]
  },
  {
   "cell_type": "code",
   "execution_count": 7,
   "metadata": {},
   "outputs": [
    {
     "name": "stdout",
     "output_type": "stream",
     "text": [
      "<class 'str'>\n"
     ]
    }
   ],
   "source": [
    "a = \"123\"\n",
    "print(type(a))"
   ]
  },
  {
   "cell_type": "code",
   "execution_count": 8,
   "metadata": {},
   "outputs": [
    {
     "name": "stdout",
     "output_type": "stream",
     "text": [
      "12\n"
     ]
    }
   ],
   "source": [
    "\n",
    "two_digit_number = input(\"Type a two digit number:\" )\n",
    "\n",
    "first_digit = int(two_digit_number[0])\n",
    "second_digit =int( two_digit_number[1])\n",
    "\n",
    "result =int( first_digit)  + int(second_digit)\n",
    "print(result)"
   ]
  },
  {
   "cell_type": "markdown",
   "metadata": {},
   "source": [
    "# Mathematical operater in python\n",
    "  +  addition\n",
    "  -  substraction\n",
    "  *  mulltiplcation\n",
    "  /  division"
   ]
  },
  {
   "cell_type": "code",
   "execution_count": 9,
   "metadata": {},
   "outputs": [
    {
     "data": {
      "text/plain": [
       "12.0"
      ]
     },
     "execution_count": 9,
     "metadata": {},
     "output_type": "execute_result"
    }
   ],
   "source": [
    "4567+6554\n",
    "5432-4357\n",
    "564*54\n",
    "144/12"
   ]
  },
  {
   "cell_type": "code",
   "execution_count": 11,
   "metadata": {},
   "outputs": [
    {
     "name": "stdout",
     "output_type": "stream",
     "text": [
      "139725\n"
     ]
    }
   ],
   "source": [
    "print(345*45*(3+6))"
   ]
  },
  {
   "cell_type": "code",
   "execution_count": 17,
   "metadata": {},
   "outputs": [
    {
     "name": "stdout",
     "output_type": "stream",
     "text": [
      "6.0\n"
     ]
    }
   ],
   "source": [
    "print(6 +4 / 2 -(1*2))"
   ]
  },
  {
   "cell_type": "code",
   "execution_count": 18,
   "metadata": {},
   "outputs": [
    {
     "data": {
      "text/plain": [
       "float"
      ]
     },
     "execution_count": 18,
     "metadata": {},
     "output_type": "execute_result"
    }
   ],
   "source": [
    "a = int(\"5\" ) / int((2.7))\n",
    "type(a)"
   ]
  },
  {
   "cell_type": "markdown",
   "metadata": {},
   "source": [
    "#  Calculate the Body Mass Index\n",
    "The BMI is a measure of someone's weight taking into account their height. e.g. If a tall person and a short person both weigh the same amount, the short person is usually more overweight."
   ]
  },
  {
   "cell_type": "code",
   "execution_count": null,
   "metadata": {},
   "outputs": [],
   "source": [
    "\n",
    "height = input(\"enter your height in m: \")\n",
    "weight = input(\"enter your weight in kg: \")\n",
    "\n",
    "\n",
    "bmi = int(weight) / float(height)**2\n",
    "\n",
    "bmi_as_int = int(bmi)\n",
    "\n",
    "print(bmi_as_int)"
   ]
  },
  {
   "cell_type": "markdown",
   "metadata": {},
   "source": [
    "#  Number Manipulation"
   ]
  },
  {
   "cell_type": "code",
   "execution_count": 13,
   "metadata": {},
   "outputs": [
    {
     "name": "stdout",
     "output_type": "stream",
     "text": [
      "1.1428571428571428\n",
      "1\n"
     ]
    }
   ],
   "source": [
    "print(8/7)\n",
    "print(int(8/6))"
   ]
  },
  {
   "cell_type": "code",
   "execution_count": 14,
   "metadata": {},
   "outputs": [
    {
     "name": "stdout",
     "output_type": "stream",
     "text": [
      "1\n"
     ]
    }
   ],
   "source": [
    "print(round(5/8))"
   ]
  },
  {
   "cell_type": "markdown",
   "metadata": {},
   "source": [
    "# F__String"
   ]
  },
  {
   "cell_type": "code",
   "execution_count": 16,
   "metadata": {},
   "outputs": [
    {
     "data": {
      "text/plain": [
       "'your score is  0 , your height is 1.8 , you are winning is True '"
      ]
     },
     "execution_count": 16,
     "metadata": {},
     "output_type": "execute_result"
    }
   ],
   "source": [
    "score = 0\n",
    "height = 1.8\n",
    "isWinning = True\n",
    "f\"your score is  {score} , your height is {height} , you are winning is {isWinning} \""
   ]
  },
  {
   "cell_type": "code",
   "execution_count": 19,
   "metadata": {},
   "outputs": [
    {
     "name": "stdout",
     "output_type": "stream",
     "text": [
      "You have 12410 days, 1768 weeks, and 408 months left.\n"
     ]
    }
   ],
   "source": [
    "\n",
    "age = input(\"What is your current age? \")\n",
    "\n",
    "\n",
    "days = (365*int(age))\n",
    "days_1 = (32850 - days)\n",
    "\n",
    "weeks = (52*int(age))\n",
    "weeks_1 = (4680-weeks)\n",
    "\n",
    "months = (12*int(age))\n",
    "months_1 = 1080-months\n",
    "print(f\"You have {days_1} days, {weeks_1} weeks, and {months_1} months left.\")\n",
    "\n"
   ]
  },
  {
   "cell_type": "code",
   "execution_count": 20,
   "metadata": {},
   "outputs": [
    {
     "name": "stdout",
     "output_type": "stream",
     "text": [
      "Welcome  to the tip calculator\n",
      "Each person should pay: $540.00\n"
     ]
    }
   ],
   "source": [
    "# Final Project\n",
    "\n",
    "print(\"Welcome  to the tip calculator\")\n",
    "#Each person should pay (150.00 / 5) * 1.12 = 33.6\n",
    "#Format the result to 2 decimal places = 33.60\n",
    "bill = float(input(\"What was the total bill? $ \"))\n",
    "tip = int(input(\"How muvh tip would you like to give? 10 , 12 or 15? \"))\n",
    "\n",
    "people = int(input(\"How many people to split the bill ?\"))\n",
    "tip_as_percentage = tip/100\n",
    "\n",
    "total_tip_amount = bill*tip_as_percentage\n",
    "total_bill = bill*total_tip_amount\n",
    "\n",
    "bill_per_people = total_bill / people\n",
    "round(bill_per_people , 2)\n",
    "\n",
    "final_amount = round(bill_per_people)\n",
    "final_amount = \"{:.2f}\".format(bill_per_people)\n",
    "round(bill_per_people , 2)\n",
    "print(f\"Each person should pay: ${final_amount}\")\n",
    "\n"
   ]
  }
 ],
 "metadata": {
  "kernelspec": {
   "display_name": "Python 3",
   "language": "python",
   "name": "python3"
  },
  "language_info": {
   "codemirror_mode": {
    "name": "ipython",
    "version": 3
   },
   "file_extension": ".py",
   "mimetype": "text/x-python",
   "name": "python",
   "nbconvert_exporter": "python",
   "pygments_lexer": "ipython3",
   "version": "3.11.5"
  },
  "orig_nbformat": 4
 },
 "nbformat": 4,
 "nbformat_minor": 2
}
