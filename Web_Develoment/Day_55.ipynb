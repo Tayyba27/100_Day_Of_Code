{
 "cells": [
  {
   "cell_type": "markdown",
   "metadata": {},
   "source": [
    "# Day_55\n",
    "### Intermediate Poject \n",
    "##  HTML & URL Prasing in Flask"
   ]
  },
  {
   "cell_type": "code",
   "execution_count": null,
   "metadata": {},
   "outputs": [],
   "source": [
    "from flask import Flask\n",
    "\n",
    "app = Flask(__name__)\n",
    "\n",
    "#Decorators to add a tag around text on web page.\n",
    "def make_bold(function):\n",
    "    def wrapper():\n",
    "        return \"<b>\" + function() + \"</b>\"\n",
    "    return wrapper\n",
    "\n",
    "def make_emphasis(function):\n",
    "    def wrapper():\n",
    "        return \"<em>\" + function() + \"</em>\"\n",
    "    return wrapper\n",
    "\n",
    "def make_underlined(function):\n",
    "    def wrapper():\n",
    "        return \"<u>\" + function() + \"</u>\"\n",
    "    return wrapper\n",
    "\n",
    "@app.route('/')\n",
    "def hello_world():\n",
    "    #Rendering HTML Elements\n",
    "    return '<h1 style=\"text-align: center\">Hello, World!</h1>' \\\n",
    "           '<p>This is a paragraph.</p>' \\\n",
    "           '<img src=\"https://media.giphy.com/media/hvS1eKlR75hMr0l7VJ/giphy.gif\" width=200>'\n",
    "\n",
    "\n",
    "#Different routes using the app.route decorator\n",
    "@app.route(\"/bye\")\n",
    "@make_bold\n",
    "@make_emphasis\n",
    "@make_underlined\n",
    "def bye():\n",
    "    return \"Bye!\"\n",
    "\n",
    "\n",
    "#Creating variable paths and converting the path to a specified data type\n",
    "@app.route(\"/username/<name>/<int:number>\")\n",
    "def greet(name, number):\n",
    "    return f\"Hello there {name}, you are {number} years old!\"\n",
    "\n",
    "\n",
    "if __name__ == \"__main__\":\n",
    "    #Run the app in debug mode to auto-reload\n",
    "    app.run(debug=True)\n"
   ]
  },
  {
   "cell_type": "markdown",
   "metadata": {},
   "source": [
    "### The Higher Lower Game Project"
   ]
  },
  {
   "cell_type": "code",
   "execution_count": null,
   "metadata": {},
   "outputs": [],
   "source": [
    "from flask import Flask\n",
    "import random\n",
    "\n",
    "random_number = random.randint(0, 9)\n",
    "print(random_number)\n",
    "\n",
    "app = Flask(__name__)\n",
    "\n",
    "\n",
    "@app.route('/')\n",
    "def home():\n",
    "    return \"<h1>Guess a number between 0 and 9</h1>\" \\\n",
    "           \"<img src='https://media.giphy.com/media/3o7aCSPqXE5C6T8tBC/giphy.gif'/>\"\n",
    "\n",
    "\n",
    "@app.route(\"/<int:guess>\")\n",
    "def guess_number(guess):\n",
    "    if guess > random_number:\n",
    "        return \"<h1 style='color: purple'>Too high, try again!</h1>\" \\\n",
    "               \"<img src='https://media.giphy.com/media/3o6ZtaO9BZHcOjmErm/giphy.gif'/>\"\n",
    "\n",
    "    elif guess < random_number:\n",
    "        return \"<h1 style='color: red'>Too low, try again!</h1>\"\\\n",
    "               \"<img src='https://media.giphy.com/media/jD4DwBtqPXRXa/giphy.gif'/>\"\n",
    "    else:\n",
    "        return \"<h1 style='color: green'>You found me!</h1>\" \\\n",
    "               \"<img src='https://media.giphy.com/media/4T7e4DmcrP9du/giphy.gif'/>\"\n",
    "\n",
    "\n",
    "if __name__ == \"__main__\":\n",
    "    app.run(debug=True)"
   ]
  }
 ],
 "metadata": {
  "kernelspec": {
   "display_name": "Python 3",
   "language": "python",
   "name": "python3"
  },
  "language_info": {
   "codemirror_mode": {
    "name": "ipython",
    "version": 3
   },
   "file_extension": ".py",
   "mimetype": "text/x-python",
   "name": "python",
   "nbconvert_exporter": "python",
   "pygments_lexer": "ipython3",
   "version": "3.11.5"
  }
 },
 "nbformat": 4,
 "nbformat_minor": 2
}
