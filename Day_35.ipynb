{
 "cells": [
  {
   "cell_type": "markdown",
   "metadata": {},
   "source": [
    "# API Authentication:\n",
    "- API authentication is a combination of technology and process that proves or verifies the identities of users who want access to an API.\n",
    "\n",
    "- API keys are available through platforms, such as a white-labeled internal marketplace. They also act as a unique identifier and provide a secret token for authentication purposes. "
   ]
  },
  {
   "cell_type": "markdown",
   "metadata": {},
   "source": [
    "# The Rain Alert System:"
   ]
  },
  {
   "cell_type": "code",
   "execution_count": 1,
   "metadata": {},
   "outputs": [
    {
     "ename": "HTTPError",
     "evalue": "401 Client Error: Unauthorized for url: https://api.openweathermap.org/data/2.5/onecall?lat=50.543277&lon=-0.234567&exclude=current%2Cminutely%2Cdaily",
     "output_type": "error",
     "traceback": [
      "\u001b[1;31m---------------------------------------------------------------------------\u001b[0m",
      "\u001b[1;31mHTTPError\u001b[0m                                 Traceback (most recent call last)",
      "\u001b[1;32mc:\\Users\\lela\\Desktop\\daysofcode\\Day_35.ipynb Cell 3\u001b[0m line \u001b[0;36m1\n\u001b[0;32m     <a href='vscode-notebook-cell:/c%3A/Users/lela/Desktop/daysofcode/Day_35.ipynb#W1sZmlsZQ%3D%3D?line=10'>11</a>\u001b[0m weather_params \u001b[39m=\u001b[39m {\n\u001b[0;32m     <a href='vscode-notebook-cell:/c%3A/Users/lela/Desktop/daysofcode/Day_35.ipynb#W1sZmlsZQ%3D%3D?line=11'>12</a>\u001b[0m     \u001b[39m\"\u001b[39m\u001b[39mlat\u001b[39m\u001b[39m\"\u001b[39m: \u001b[39m50.543277\u001b[39m,\n\u001b[0;32m     <a href='vscode-notebook-cell:/c%3A/Users/lela/Desktop/daysofcode/Day_35.ipynb#W1sZmlsZQ%3D%3D?line=12'>13</a>\u001b[0m     \u001b[39m\"\u001b[39m\u001b[39mlon\u001b[39m\u001b[39m\"\u001b[39m: \u001b[39m-\u001b[39m\u001b[39m0.234567\u001b[39m,\n\u001b[0;32m     <a href='vscode-notebook-cell:/c%3A/Users/lela/Desktop/daysofcode/Day_35.ipynb#W1sZmlsZQ%3D%3D?line=13'>14</a>\u001b[0m     \u001b[39m\"\u001b[39m\u001b[39mappid\u001b[39m\u001b[39m\"\u001b[39m: api_key,\n\u001b[0;32m     <a href='vscode-notebook-cell:/c%3A/Users/lela/Desktop/daysofcode/Day_35.ipynb#W1sZmlsZQ%3D%3D?line=14'>15</a>\u001b[0m     \u001b[39m\"\u001b[39m\u001b[39mexclude\u001b[39m\u001b[39m\"\u001b[39m: \u001b[39m\"\u001b[39m\u001b[39mcurrent,minutely,daily\u001b[39m\u001b[39m\"\u001b[39m\n\u001b[0;32m     <a href='vscode-notebook-cell:/c%3A/Users/lela/Desktop/daysofcode/Day_35.ipynb#W1sZmlsZQ%3D%3D?line=15'>16</a>\u001b[0m }\n\u001b[0;32m     <a href='vscode-notebook-cell:/c%3A/Users/lela/Desktop/daysofcode/Day_35.ipynb#W1sZmlsZQ%3D%3D?line=17'>18</a>\u001b[0m response \u001b[39m=\u001b[39m requests\u001b[39m.\u001b[39mget(OWM_Endpoint, params\u001b[39m=\u001b[39mweather_params)\n\u001b[1;32m---> <a href='vscode-notebook-cell:/c%3A/Users/lela/Desktop/daysofcode/Day_35.ipynb#W1sZmlsZQ%3D%3D?line=18'>19</a>\u001b[0m response\u001b[39m.\u001b[39;49mraise_for_status()\n\u001b[0;32m     <a href='vscode-notebook-cell:/c%3A/Users/lela/Desktop/daysofcode/Day_35.ipynb#W1sZmlsZQ%3D%3D?line=19'>20</a>\u001b[0m weather_data \u001b[39m=\u001b[39m response\u001b[39m.\u001b[39mjson()\n\u001b[0;32m     <a href='vscode-notebook-cell:/c%3A/Users/lela/Desktop/daysofcode/Day_35.ipynb#W1sZmlsZQ%3D%3D?line=20'>21</a>\u001b[0m weather_slice \u001b[39m=\u001b[39m weather_data[\u001b[39m\"\u001b[39m\u001b[39mhourly\u001b[39m\u001b[39m\"\u001b[39m][:\u001b[39m12\u001b[39m]\n",
      "File \u001b[1;32mc:\\Users\\lela\\AppData\\Local\\Programs\\Python\\Python311\\Lib\\site-packages\\requests\\models.py:1021\u001b[0m, in \u001b[0;36mResponse.raise_for_status\u001b[1;34m(self)\u001b[0m\n\u001b[0;32m   1016\u001b[0m     http_error_msg \u001b[39m=\u001b[39m (\n\u001b[0;32m   1017\u001b[0m         \u001b[39mf\u001b[39m\u001b[39m\"\u001b[39m\u001b[39m{\u001b[39;00m\u001b[39mself\u001b[39m\u001b[39m.\u001b[39mstatus_code\u001b[39m}\u001b[39;00m\u001b[39m Server Error: \u001b[39m\u001b[39m{\u001b[39;00mreason\u001b[39m}\u001b[39;00m\u001b[39m for url: \u001b[39m\u001b[39m{\u001b[39;00m\u001b[39mself\u001b[39m\u001b[39m.\u001b[39murl\u001b[39m}\u001b[39;00m\u001b[39m\"\u001b[39m\n\u001b[0;32m   1018\u001b[0m     )\n\u001b[0;32m   1020\u001b[0m \u001b[39mif\u001b[39;00m http_error_msg:\n\u001b[1;32m-> 1021\u001b[0m     \u001b[39mraise\u001b[39;00m HTTPError(http_error_msg, response\u001b[39m=\u001b[39m\u001b[39mself\u001b[39m)\n",
      "\u001b[1;31mHTTPError\u001b[0m: 401 Client Error: Unauthorized for url: https://api.openweathermap.org/data/2.5/onecall?lat=50.543277&lon=-0.234567&exclude=current%2Cminutely%2Cdaily"
     ]
    }
   ],
   "source": [
    "import requests\n",
    "import os\n",
    "from twilio.rest import Client\n",
    "from twilio.http.http_client import TwilioHttpClient\n",
    "\n",
    "OWM_Endpoint = \"https://api.openweathermap.org/data/2.5/onecall\"\n",
    "api_key = os.environ.get(\"OWM_API_KEY\")\n",
    "account_sid = \"YOUR ACCOUNT SID\"\n",
    "auth_token = os.environ.get(\"AUTH_TOKEN\")\n",
    "\n",
    "weather_params = {\n",
    "    \"lat\": 50.543277,\n",
    "    \"lon\": -0.234567,\n",
    "    \"appid\": api_key,\n",
    "    \"exclude\": \"current,minutely,daily\"\n",
    "}\n",
    "\n",
    "response = requests.get(OWM_Endpoint, params=weather_params)\n",
    "response.raise_for_status()\n",
    "weather_data = response.json()\n",
    "weather_slice = weather_data[\"hourly\"][:12]\n",
    "\n",
    "will_rain = False\n",
    "\n",
    "for hour_data in weather_slice:\n",
    "    condition_code = hour_data[\"weather\"][0][\"id\"]\n",
    "    if int(condition_code) < 700:\n",
    "        will_rain = True\n",
    "\n",
    "if will_rain:\n",
    "    proxy_client = TwilioHttpClient()\n",
    "    proxy_client.session.proxies = {'https': os.environ['https_proxy']}\n",
    "\n",
    "    client = Client(account_sid, auth_token, http_client=proxy_client)\n",
    "    message = client.messages \\\n",
    "        .create(\n",
    "        body=\"It's going to rain today. Remember to bring an ☔️\",\n",
    "        from_=\"YOUR TWILIO VIRTUAL NUMBER\",\n",
    "        to=\"YOUR TWILIO VERIFIED REAL NUMBER\"\n",
    "    )\n",
    "    print(message.status)\n"
   ]
  }
 ],
 "metadata": {
  "kernelspec": {
   "display_name": "Python 3",
   "language": "python",
   "name": "python3"
  },
  "language_info": {
   "codemirror_mode": {
    "name": "ipython",
    "version": 3
   },
   "file_extension": ".py",
   "mimetype": "text/x-python",
   "name": "python",
   "nbconvert_exporter": "python",
   "pygments_lexer": "ipython3",
   "version": "3.11.5"
  }
 },
 "nbformat": 4,
 "nbformat_minor": 2
}
