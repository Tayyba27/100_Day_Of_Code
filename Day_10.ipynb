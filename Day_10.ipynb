{
 "cells": [
  {
   "cell_type": "markdown",
   "metadata": {},
   "source": [
    "# Day_10\n",
    "# Function with output"
   ]
  },
  {
   "cell_type": "code",
   "execution_count": 3,
   "metadata": {},
   "outputs": [
    {
     "name": "stdout",
     "output_type": "stream",
     "text": [
      "My name is Tayyaba\n"
     ]
    }
   ],
   "source": [
    "def my_function():\n",
    "       print(\"My name is Tayyaba\")\n",
    "my_function()      "
   ]
  },
  {
   "cell_type": "code",
   "execution_count": 4,
   "metadata": {},
   "outputs": [
    {
     "data": {
      "text/plain": [
       "28"
      ]
     },
     "execution_count": 4,
     "metadata": {},
     "output_type": "execute_result"
    }
   ],
   "source": [
    "def my_function():\n",
    "    result = 4*7\n",
    "    return result\n",
    "my_function()"
   ]
  },
  {
   "cell_type": "code",
   "execution_count": 5,
   "metadata": {},
   "outputs": [
    {
     "data": {
      "text/plain": [
       "20"
      ]
     },
     "execution_count": 5,
     "metadata": {},
     "output_type": "execute_result"
    }
   ],
   "source": [
    "def my_function():\n",
    "    return 4*5\n",
    "my_function()"
   ]
  },
  {
   "cell_type": "code",
   "execution_count": 6,
   "metadata": {},
   "outputs": [
    {
     "name": "stdout",
     "output_type": "stream",
     "text": [
      "Tayyaba\n",
      "Tayyaba\n"
     ]
    }
   ],
   "source": [
    "def formet_name(f_name , l_name):\n",
    "    print(f_name.title())\n",
    "    print(l_name.title())\n",
    "\n",
    "formet_name(\"tayyaba\" , \"TAYYABA\")    \n"
   ]
  },
  {
   "cell_type": "code",
   "execution_count": 7,
   "metadata": {},
   "outputs": [
    {
     "name": "stdout",
     "output_type": "stream",
     "text": [
      "Tayyaba Kashif\n"
     ]
    }
   ],
   "source": [
    "def formet_name(f_name , l_name):\n",
    "    formated_f_name= f_name.title()\n",
    "    formated_l_name = l_name.title()\n",
    "    return f\"{formated_f_name} {formated_l_name}\"  \n",
    "\n",
    "formated_string = formet_name(\"tayyaba\" , \"kashif\")    \n",
    "print(formated_string)\n"
   ]
  },
  {
   "cell_type": "code",
   "execution_count": 8,
   "metadata": {},
   "outputs": [
    {
     "data": {
      "text/plain": [
       "7"
      ]
     },
     "execution_count": 8,
     "metadata": {},
     "output_type": "execute_result"
    }
   ],
   "source": [
    "len(\"Tayyaba\")"
   ]
  },
  {
   "cell_type": "markdown",
   "metadata": {},
   "source": [
    "# Multiple Return Value"
   ]
  },
  {
   "cell_type": "code",
   "execution_count": 7,
   "metadata": {},
   "outputs": [
    {
     "name": "stdout",
     "output_type": "stream",
     "text": [
      "Result :Tayyaba Kashif\n"
     ]
    }
   ],
   "source": [
    "def format_name(f_name , l_name):\n",
    "    if f_name == \" \" or l_name== \" \":\n",
    "      return \"You didn't provide valid inputs.\"\n",
    "    formated_f_name=  f_name.title()\n",
    "    formated_l_name = l_name.title()\n",
    "    return f\"Result :{formated_f_name} {formated_l_name}\" \n",
    "\n",
    "print(format_name(input(\"What is your first name?\"), \n",
    "input(\"What is your last name?\") ))   "
   ]
  },
  {
   "cell_type": "markdown",
   "metadata": {},
   "source": [
    "# Exercise :1 \n",
    "# Day in Month"
   ]
  },
  {
   "cell_type": "code",
   "execution_count": 9,
   "metadata": {},
   "outputs": [
    {
     "name": "stdout",
     "output_type": "stream",
     "text": [
      "28\n"
     ]
    }
   ],
   "source": [
    "def is_leap(year):\n",
    "  if year % 4 == 0:\n",
    "    if year % 100 == 0:\n",
    "      if year % 400 == 0:\n",
    "        return True\n",
    "      else:\n",
    "        return False\n",
    "    else:\n",
    "      return True\n",
    "  else:\n",
    "    return False\n",
    "\n",
    "def days_in_month(year , month):\n",
    "    #if month > 12 or month <1:\n",
    "        #return \"Invalid month\"\n",
    "    month_days = [31, 28, 31, 30, 31, 30, 31, 31, 30, 31, 30, 31]  \n",
    "    if is_leap(year) and month == 2:\n",
    "      return 29\n",
    "    return month_days[month-1]   \n",
    "  \n",
    "\n",
    "year = int(input(\"Enter a year: \"))\n",
    "month = int(input(\"Enter a month: \"))\n",
    "days = days_in_month(year, month)\n",
    "print(days)\n",
    "\n"
   ]
  },
  {
   "cell_type": "code",
   "execution_count": 11,
   "metadata": {},
   "outputs": [
    {
     "name": "stdout",
     "output_type": "stream",
     "text": [
      "Result :Tayyaba  Your Last Name :\n"
     ]
    }
   ],
   "source": [
    "formatted_name = format_name(input(\"Your first name : \") , (\" Your last name :\"))\n",
    "print(formatted_name)\n",
    "\n",
    "length = len(formatted_name)\n",
    "def format_name(f_name , l_name):\n",
    "    \"\"\" Take the first and last name and format it \n",
    "    to reyturn the title case version of the name \"\"\"\n",
    "    if f_name == \" \" or l_name== \" \":\n",
    "      return \"You didn't provide valid inputs.\"\n",
    "    formated_f_name=  f_name.title()\n",
    "    formated_l_name = l_name.title()\n",
    "    return f\"Result :{formated_f_name} {formated_l_name}\" \n"
   ]
  },
  {
   "cell_type": "markdown",
   "metadata": {},
   "source": [
    "# Quiz Question"
   ]
  },
  {
   "cell_type": "code",
   "execution_count": 12,
   "metadata": {},
   "outputs": [
    {
     "name": "stdout",
     "output_type": "stream",
     "text": [
      "15\n"
     ]
    }
   ],
   "source": [
    "def outer_function(a , b):\n",
    "    def inner_function(c, d):\n",
    "        return c+ d\n",
    "    return inner_function(a,b)\n",
    "\n",
    "result = outer_function(5,10)\n",
    "print(result)"
   ]
  },
  {
   "cell_type": "code",
   "execution_count": 13,
   "metadata": {},
   "outputs": [
    {
     "name": "stdout",
     "output_type": "stream",
     "text": [
      "None\n"
     ]
    }
   ],
   "source": [
    "def my_function(a):\n",
    "    if a < 40 :\n",
    "        return\n",
    "        print(\"Terrible\")\n",
    "    if a < 80:\n",
    "        return \"Pass\"\n",
    "    else:\n",
    "        \"Great\"\n",
    "print(my_function(25))        "
   ]
  },
  {
   "cell_type": "markdown",
   "metadata": {},
   "source": [
    "# Final Project\n",
    "# paart:1 \n",
    "- Combining Dictionaries and Function"
   ]
  },
  {
   "cell_type": "code",
   "execution_count": 18,
   "metadata": {},
   "outputs": [
    {
     "name": "stdout",
     "output_type": "stream",
     "text": [
      "+\n",
      "-\n",
      "*\n",
      "/\n",
      "23 + 34 = 79\n",
      "57 * 45 = 454545454545454545454545454545454545454545454545454545454545454545454545454545454545454545454545454545454545454545\n",
      "\n",
      " _____________________\n",
      "|  _________________  |\n",
      "| | Pythonista   0. | |  .----------------.  .----------------.  .----------------.  .----------------. \n",
      "| |_________________| | | .--------------. || .--------------. || .--------------. || .--------------. |\n",
      "|  ___ ___ ___   ___  | | |     ______   | || |      __      | || |   _____      | || |     ______   | |\n",
      "| | 7 | 8 | 9 | | + | | | |   .' ___  |  | || |     /  \\     | || |  |_   _|     | || |   .' ___  |  | |\n",
      "| |___|___|___| |___| | | |  / .'   \\_|  | || |    / /\\ \\    | || |    | |       | || |  / .'   \\_|  | |\n",
      "| | 4 | 5 | 6 | | - | | | |  | |         | || |   / ____ \\   | || |    | |   _   | || |  | |         | |\n",
      "| |___|___|___| |___| | | |  \\ `.___.'\\  | || | _/ /    \\ \\_ | || |   _| |__/ |  | || |  \\ `.___.'\\  | |\n",
      "| | 1 | 2 | 3 | | x | | | |   `._____.'  | || ||____|  |____|| || |  |________|  | || |   `._____.'  | |\n",
      "| |___|___|___| |___| | | |              | || |              | || |              | || |              | |\n",
      "| | . | 0 | = | | / | | | '--------------' || '--------------' || '--------------' || '--------------' |\n",
      "| |___|___|___| |___| |  '----------------'  '----------------'  '----------------'  '----------------' \n",
      "|_____________________|\n",
      "\n"
     ]
    }
   ],
   "source": [
    "from cal import logo\n",
    "def add(n1 , n2):\n",
    "    return n1 +n2\n",
    "\n",
    "def subtract( n1 , n2):\n",
    "    return n1 - n2\n",
    "\n",
    "def multiply( n1, n2):\n",
    "    return n1 * n2\n",
    "\n",
    "def divide(n1 , n2):\n",
    "    return n1/n2\n",
    "\n",
    "\n",
    "operations={\n",
    "   \"+\" : add,\n",
    "   \"-\" : subtract,\n",
    "   \"*\" : multiply ,\n",
    "   \"/\" : divide\n",
    "}\n",
    "\n",
    "def calculator():\n",
    "  print(logo)\n",
    "num1 = int(input(\"What's the first number : \"))\n",
    "num2 = int(input(\"What's the second number : \"))\n",
    "for symbol in operations:\n",
    "    print(symbol)\n",
    "operation_symbol = input( \" Pick an opertion from the line above : \")\n",
    "calculation_function= operations[operation_symbol]\n",
    "first_answer = calculation_function(num1 , num2)\n",
    "\n",
    "print(f\"{num1} {operation_symbol} {num2} = {answer}\")\n",
    "\n",
    "operation_symbol = input( \" Pick another operation  : \")\n",
    "num3 = input(\"What's the next number : \")\n",
    "calculation_function= operations[operation_symbol]\n",
    "second_answer =int(calculation_function(first_answer , num3))\n",
    "\n",
    "print(f\"{first_answer} {operation_symbol} {num3} = {second_answer}\")\n",
    "\n",
    "if input(f\"Type 'y' to continue calculating with {second_answer}, or type 'n' to start a new calculation: \") == 'y':\n",
    "      num1 = second_answer\n",
    "else:\n",
    "      should_continue = False\n",
    "    \n",
    "      calculator()\n",
    "calculator()"
   ]
  }
 ],
 "metadata": {
  "kernelspec": {
   "display_name": "Python 3",
   "language": "python",
   "name": "python3"
  },
  "language_info": {
   "codemirror_mode": {
    "name": "ipython",
    "version": 3
   },
   "file_extension": ".py",
   "mimetype": "text/x-python",
   "name": "python",
   "nbconvert_exporter": "python",
   "pygments_lexer": "ipython3",
   "version": "3.11.5"
  },
  "orig_nbformat": 4
 },
 "nbformat": 4,
 "nbformat_minor": 2
}
