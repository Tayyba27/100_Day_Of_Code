{
 "cells": [
  {
   "cell_type": "markdown",
   "metadata": {},
   "source": [
    "# Day_33\n",
    "- An application Programming interface is a set of commands , function , potocols  and object that  programmer can use to create  software or interact wih an external system.\n",
    "### Api Endpoint\n",
    "-  \n",
    "### Api Parameter"
   ]
  },
  {
   "cell_type": "code",
   "execution_count": null,
   "metadata": {},
   "outputs": [],
   "source": [
    "import requests \n",
    "response = requests.get(url= \"http://api.open-notify.org/iss-now.json \")\n",
    "response.raise_for_status()\n",
    "\n",
    "data = response.json()\n",
    "\n",
    "longitude = data[\"iss_position\"][\"longitude\"]\n",
    "latitude = data[\"iss_position\"][\"latitude\"]"
   ]
  },
  {
   "cell_type": "code",
   "execution_count": 4,
   "metadata": {},
   "outputs": [],
   "source": [
    "from tkinter import *\n",
    "import requests\n",
    "\n",
    "\n",
    "def get_quote():\n",
    "    response = requests.get(\"https://api.kanye.rest\")\n",
    "    response.raise_for_status()\n",
    "    data = response.json()\n",
    "    quote = data[\"quote\"]\n",
    "    canvas.itemconfig(quote_text, text=quote)\n",
    "\n",
    "\n",
    "window = Tk()\n",
    "window.title(\"Kanye Says...\")\n",
    "window.config(padx=50, pady=50)\n",
    "\n",
    "canvas = Canvas(width=300, height=414)\n",
    "background_img = PhotoImage(file=\"background.png\")\n",
    "canvas.create_image(150, 207, image=background_img)\n",
    "quote_text = canvas.create_text(150, 207, text=\"Kanye Quote Goes HERE\", width=250, font=(\"Arial\", 30, \"bold\"), fill=\"white\")\n",
    "canvas.grid(row=0, column=0)\n",
    "\n",
    "kanye_img = PhotoImage(file=\"kanye.png\")\n",
    "kanye_button = Button(image=kanye_img, highlightthickness=0, command=get_quote)\n",
    "kanye_button.grid(row=1, column=0)\n",
    "\n",
    "\n",
    "\n",
    "window.mainloop()"
   ]
  },
  {
   "cell_type": "markdown",
   "metadata": {},
   "source": [
    "## Final Project\n",
    "\n",
    "# ISS Overhead Notifier Project:"
   ]
  },
  {
   "cell_type": "code",
   "execution_count": 7,
   "metadata": {},
   "outputs": [],
   "source": [
    "import requests\n",
    "from datetime import datetime\n",
    "import smtplib\n",
    "import time\n",
    "\n",
    "MY_EMAIL = \"___YOUR_EMAIL_HERE____\"\n",
    "MY_PASSWORD = \"___YOUR_PASSWORD_HERE___\"\n",
    "MY_LAT = 51.507351 # Your latitude\n",
    "MY_LONG = -0.127758 # Your longitude\n",
    "\n",
    "\n",
    "def is_iss_overhead():\n",
    "    response = requests.get(url=\"http://api.open-notify.org/iss-now.json\")\n",
    "    response.raise_for_status()\n",
    "    data = response.json()\n",
    "\n",
    "    iss_latitude = float(data[\"iss_position\"][\"latitude\"])\n",
    "    iss_longitude = float(data[\"iss_position\"][\"longitude\"])\n",
    "\n",
    "    #Your position is within +5 or -5 degrees of the iss position.\n",
    "    if MY_LAT-5 <= iss_latitude <= MY_LAT+5 and MY_LONG-5 <= iss_longitude <= MY_LONG+5:\n",
    "        return True\n",
    "\n",
    "\n",
    "def is_night():\n",
    "    parameters = {\n",
    "        \"lat\": MY_LAT,\n",
    "        \"lng\": MY_LONG,\n",
    "        \"formatted\": 0,\n",
    "    }\n",
    "    response = requests.get(\"https://api.sunrise-sunset.org/json\", params=parameters)\n",
    "    response.raise_for_status()\n",
    "    data = response.json()\n",
    "    sunrise = int(data[\"results\"][\"sunrise\"].split(\"T\")[1].split(\":\")[0])\n",
    "    sunset = int(data[\"results\"][\"sunset\"].split(\"T\")[1].split(\":\")[0])\n",
    "\n",
    "    time_now = datetime.now().hour\n",
    "\n",
    "    if time_now >= sunset or time_now <= sunrise:\n",
    "        return True\n",
    "\n",
    "\n",
    "while True:\n",
    "    time.sleep(60)\n",
    "    if is_iss_overhead() and is_night():\n",
    "        connection = smtplib.SMTP(\"__YOUR_SMTP_ADDRESS_HERE___\")\n",
    "        connection.starttls()\n",
    "        connection.login(MY_EMAIL, MY_PASSWORD)\n",
    "        connection.sendmail(\n",
    "            from_addr=MY_EMAIL,\n",
    "            to_addrs=MY_EMAIL,\n",
    "            msg=\"Subject:Look Up👆\\n\\nThe ISS is above you in the sky.\"\n",
    "        )\n",
    "\n",
    "\n"
   ]
  }
 ],
 "metadata": {
  "kernelspec": {
   "display_name": "Python 3",
   "language": "python",
   "name": "python3"
  },
  "language_info": {
   "codemirror_mode": {
    "name": "ipython",
    "version": 3
   },
   "file_extension": ".py",
   "mimetype": "text/x-python",
   "name": "python",
   "nbconvert_exporter": "python",
   "pygments_lexer": "ipython3",
   "version": "3.11.5"
  }
 },
 "nbformat": 4,
 "nbformat_minor": 2
}
