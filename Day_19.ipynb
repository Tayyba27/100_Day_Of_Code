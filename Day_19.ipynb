{
 "cells": [
  {
   "cell_type": "markdown",
   "metadata": {},
   "source": [
    "# Day_19\n",
    "- More Turtle Graphic , \n",
    "- Eveny listeners ,\n",
    "- Multiple instances ."
   ]
  },
  {
   "cell_type": "code",
   "execution_count": 1,
   "metadata": {},
   "outputs": [],
   "source": [
    "from turtle import  Turtle , Screen\n",
    "\n",
    "\n",
    "tim = Turtle\n",
    "screen = Screen()\n",
    "\n",
    "def move_forward():\n",
    "    tim.forward(10)\n",
    "\n",
    "\n",
    "screen.listen()\n",
    "screen.onkey(key = \"space\" , fun = move_forward)  \n",
    "screen.exitonclick()  "
   ]
  },
  {
   "cell_type": "markdown",
   "metadata": {},
   "source": [
    "# Make an Etch-A-Sketch App:\n"
   ]
  },
  {
   "cell_type": "code",
   "execution_count": 2,
   "metadata": {},
   "outputs": [],
   "source": [
    "from turtle import  Turtle , Screen\n",
    "\n",
    "\n",
    "tim = Turtle\n",
    "screen = Screen()\n",
    "\n",
    "def move_forwards():\n",
    "    tim.forwards(10)\n",
    "\n",
    "def move_backwards():\n",
    "    tim.backwards(10)\n",
    "\n",
    "\n",
    "def turn_left():\n",
    "   new_heading =  tim.heading ()+ 10 \n",
    "   tim.setheading(new_heading)\n",
    "\n",
    "\n",
    "def turn_right():\n",
    "    new_heading = tim.heading() - 10   \n",
    "    tim.setheading(new_heading) \n",
    "\n",
    "def clear():\n",
    "    tim.clear()\n",
    "    tim.penup()\n",
    "    tim.home()\n",
    "    tim.pendown()\n",
    "\n",
    "screen.listen()\n",
    "screen.onkey( move_forwards , \"w\" )\n",
    "screen.onkey(move_forwards , \"s\")\n",
    "screen.onkey(move_forwards , \" a\")\n",
    "screen.onkey(move_forwards , \"d\")  \n",
    "screen.exitonclick()  "
   ]
  },
  {
   "cell_type": "markdown",
   "metadata": {},
   "source": [
    "## Build a Turtle Race: "
   ]
  },
  {
   "cell_type": "code",
   "execution_count": 6,
   "metadata": {},
   "outputs": [],
   "source": [
    "from turtle import Turtle , Screen\n",
    "import random\n",
    "is_race_on = False\n",
    "\n",
    "new_turtle = Turtle()\n",
    "screen = Screen()\n",
    "screen.setup(width =500 , height = 400)\n",
    "user_bet = screen.textinput(title = \"Make your bet\" , prompt = \"Which turtle will win the race? Enter a color\")\n",
    "colors = [\"red\" , \"green\" , \"blue\" , \"yellow\" , \"orange\" , \"purple\"]\n",
    "y_position = [-70 , -40 , -10 , 20 , 50 , 80]\n",
    "all_turtle = []\n",
    "\n",
    "for turtle_index in range(0 , 6):\n",
    "    new_turtle = Turtle(shape = \"turtle\")\n",
    "    new_turtle.color(colors[turtle_index])\n",
    "    new_turtle.penup()\n",
    "    new_turtle.goto(x = -250 , y=y_position[turtle_index])\n",
    "    all_turtle.append(new_turtle)\n",
    "\n",
    "if user_bet:\n",
    "    is_race_on = True    \n",
    "\n",
    "while is_race_on:\n",
    "\n",
    "\n",
    "  for turtle in all_turtle:\n",
    "       if turtle.xcor() > 230:\n",
    "          is_race_on = False\n",
    "          winning_color = turtle.pencolor()\n",
    "          if winning_color == user_bet:\n",
    "              print(f\"You' ve won! the {winning_color} turtle is winner!\")\n",
    "          else:\n",
    "              print(f\"You've lost! the {winning_color} turtle is the winning!\")    \n",
    "\n",
    "\n",
    "          rand_distance = random.randint(0 , 10)\n",
    "          turtle.forward(rand_distance)\n",
    "    \n",
    "\n",
    "\n",
    "screen.exitonclick()"
   ]
  }
 ],
 "metadata": {
  "kernelspec": {
   "display_name": "Python 3",
   "language": "python",
   "name": "python3"
  },
  "language_info": {
   "codemirror_mode": {
    "name": "ipython",
    "version": 3
   },
   "file_extension": ".py",
   "mimetype": "text/x-python",
   "name": "python",
   "nbconvert_exporter": "python",
   "pygments_lexer": "ipython3",
   "version": "3.11.5"
  },
  "orig_nbformat": 4
 },
 "nbformat": 4,
 "nbformat_minor": 2
}
