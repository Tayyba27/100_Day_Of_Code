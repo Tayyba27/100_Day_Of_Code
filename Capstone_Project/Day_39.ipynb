{
 "cells": [
  {
   "cell_type": "markdown",
   "metadata": {},
   "source": [
    "# day_39\n",
    "###  Flight Deal Finder:\n",
    "### Part _1\n"
   ]
  },
  {
   "cell_type": "code",
   "execution_count": 1,
   "metadata": {},
   "outputs": [],
   "source": [
    "class FlightData:\n",
    "    #This class is responsible for structuring the flight data.\n",
    "    pass"
   ]
  },
  {
   "cell_type": "code",
   "execution_count": 2,
   "metadata": {},
   "outputs": [],
   "source": [
    "import requests\n",
    "\n",
    "TEQUILA_ENDPOINT = \"https://tequila-api.kiwi.com\"\n",
    "TEQUILA_API_KEY = \"YOUR_API_KEY_HERE\"\n",
    "\n",
    "\n",
    "class FlightSearch:\n",
    "\n",
    "    def get_destination_code(self, city_name):\n",
    "        # Return \"TESTING\" for now to make sure Sheety is working. Get TEQUILA API data later.\n",
    "        code = \"TESTING\"\n",
    "        return code"
   ]
  },
  {
   "cell_type": "code",
   "execution_count": 3,
   "metadata": {},
   "outputs": [],
   "source": [
    "import requests\n",
    "\n",
    "SHEETY_PRICES_ENDPOINT =\"https://api.sheety.co/2c6174297eea91646b1e081436cb5fd3/flightDeals/prices\"\n",
    "\n",
    "\n",
    "class DataManager:\n",
    "\n",
    "    def __init__(self):\n",
    "        self.destination_data = {}\n",
    "\n",
    "    def get_destination_data(self):\n",
    "        # 2. Use the Sheety API to GET all the data in that sheet and print it out.\n",
    "        response = requests.get(url=SHEETY_PRICES_ENDPOINT)\n",
    "        data = response.json()\n",
    "        self.destination_data = data[\"prices\"]\n",
    "        # 3. Try importing pretty print and printing the data out again using pprint() to see it formatted.\n",
    "        # pprint(data)\n",
    "        return self.destination_data\n",
    "\n",
    "    # 6. In the DataManager Class make a PUT request and use the row id from sheet_data\n",
    "    # to update the Google Sheet with the IATA codes. (Do this using code).\n",
    "    def update_destination_codes(self):\n",
    "        for city in self.destination_data:\n",
    "            new_data = {\n",
    "                \"price\": {\n",
    "                    \"iataCode\": city[\"iataCode\"]\n",
    "                }\n",
    "            }\n",
    "            response = requests.put(\n",
    "                url=f\"{SHEETY_PRICES_ENDPOINT}/{city['id']}\",\n",
    "                json=new_data\n",
    "            )\n",
    "            print(response.text)\n"
   ]
  },
  {
   "cell_type": "code",
   "execution_count": 4,
   "metadata": {},
   "outputs": [],
   "source": [
    "class NotificationManager:\n",
    "    #This class is responsible for sending notifications with the deal flight details.\n",
    "    pass"
   ]
  },
  {
   "cell_type": "code",
   "execution_count": 7,
   "metadata": {},
   "outputs": [
    {
     "ename": "SyntaxError",
     "evalue": "invalid syntax (data_manager.py, line 3)",
     "output_type": "error",
     "traceback": [
      "Traceback \u001b[1;36m(most recent call last)\u001b[0m:\n",
      "\u001b[0m  File \u001b[0;32m~\\AppData\\Roaming\\Python\\Python311\\site-packages\\IPython\\core\\interactiveshell.py:3508\u001b[0m in \u001b[0;35mrun_code\u001b[0m\n    exec(code_obj, self.user_global_ns, self.user_ns)\u001b[0m\n",
      "\u001b[1;36m  Cell \u001b[1;32mIn[7], line 2\u001b[1;36m\n\u001b[1;33m    from data_manager import DataManager\u001b[1;36m\n",
      "\u001b[1;36m  File \u001b[1;32mc:\\Users\\lela\\Desktop\\daysofcode\\data_manager.py:3\u001b[1;36m\u001b[0m\n\u001b[1;33m    SHEETY_PRICES_ENDPOINT = YOUR ENDPOINT HERE\u001b[0m\n\u001b[1;37m                                  ^\u001b[0m\n\u001b[1;31mSyntaxError\u001b[0m\u001b[1;31m:\u001b[0m invalid syntax\n"
     ]
    }
   ],
   "source": [
    "# 4. Pass the data back to the main.py file, so that you can print the data from main.py\n",
    "from data_manager import DataManager\n",
    "data_manager = DataManager()\n",
    "sheet_data = data_manager.get_destination_data()\n",
    "# print(sheet_data)\n",
    "\n",
    "#  5. In main.py check if sheet_data contains any values for the \"iataCode\" key.\n",
    "#  If not, then the IATA Codes column is empty in the Google Sheet.\n",
    "#  In this case, pass each city name in sheet_data one-by-one\n",
    "#  to the FlightSearch class to get the corresponding IATA code\n",
    "#  for that city using the Flight Search API.\n",
    "#  You should use the code you get back to update the sheet_data dictionary.\n",
    "if sheet_data[0][\"iataCode\"] == \"https://api.sheety.co/2c6174297eea91646b1e081436cb5fd3/flightDeals/prices\":\n",
    "    from flight_search import FlightSearch\n",
    "    flight_search = FlightSearch()\n",
    "    for row in sheet_data:\n",
    "        row[\"iataCode\"] = flight_search.get_destination_code(row[\"city\"])\n",
    "    print(f\"sheet_data:\\n {sheet_data}\")\n",
    "\n",
    "    data_manager.destination_data = sheet_data\n",
    "    data_manager.update_destination_codes()\n"
   ]
  }
 ],
 "metadata": {
  "kernelspec": {
   "display_name": "Python 3",
   "language": "python",
   "name": "python3"
  },
  "language_info": {
   "codemirror_mode": {
    "name": "ipython",
    "version": 3
   },
   "file_extension": ".py",
   "mimetype": "text/x-python",
   "name": "python",
   "nbconvert_exporter": "python",
   "pygments_lexer": "ipython3",
   "version": "3.11.5"
  }
 },
 "nbformat": 4,
 "nbformat_minor": 2
}
