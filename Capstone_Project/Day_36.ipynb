{
 "cells": [
  {
   "cell_type": "markdown",
   "metadata": {},
   "source": [
    "# Day_36\n",
    "### Stock Trending News Alert Project:\n",
    "- stock price\n",
    "- TSLA\n",
    "- News\n",
    "- SMS\n"
   ]
  },
  {
   "cell_type": "code",
   "execution_count": 1,
   "metadata": {},
   "outputs": [
    {
     "name": "stdout",
     "output_type": "stream",
     "text": [
      "214.6500\n",
      "209.9800\n",
      "2\n",
      "[{'source': {'id': None, 'name': 'ETF Daily News'}, 'author': 'MarketBeat News', 'title': 'Scotia Capital Inc. Raises Stock Position in Tesla, Inc. (NASDAQ:TSLA)', 'description': 'Scotia Capital Inc. lifted its holdings in shares of Tesla, Inc. (NASDAQ:TSLA – Free Report) by 19.1% in the second quarter, according to the company in its most recent filing with the Securities and Exchange Commission (SEC). The institutional investor owned…', 'url': 'https://www.etfdailynews.com/2023/10/28/scotia-capital-inc-raises-stock-position-in-tesla-inc-nasdaqtsla/', 'urlToImage': 'https://www.americanbankingnews.com/wp-content/timthumb/timthumb.php?src=https://www.marketbeat.com/logos/tesla-inc-logo.png?v=20221020135629&w=240&h=240&zc=2', 'publishedAt': '2023-10-28T18:20:41Z', 'content': 'Scotia Capital Inc. lifted its holdings in shares of Tesla, Inc. (NASDAQ:TSLA – Free Report) by 19.1% in the second quarter, according to the company in its most recent filing with the Securities and… [+6374 chars]'}, {'source': {'id': None, 'name': 'ETF Daily News'}, 'author': 'MarketBeat News', 'title': 'Yoder Wealth Management Inc. Takes Position in Tesla, Inc. (NASDAQ:TSLA)', 'description': 'Yoder Wealth Management Inc. acquired a new position in Tesla, Inc. (NASDAQ:TSLA – Free Report) during the second quarter, according to its most recent Form 13F filing with the Securities and Exchange Commission. The institutional investor acquired 793 shares…', 'url': 'https://www.etfdailynews.com/2023/10/30/yoder-wealth-management-inc-takes-position-in-tesla-inc-nasdaqtsla/', 'urlToImage': 'https://www.americanbankingnews.com/wp-content/timthumb/timthumb.php?src=https://www.marketbeat.com/logos/tesla-inc-logo.png?v=20221020135629&w=240&h=240&zc=2', 'publishedAt': '2023-10-30T19:30:41Z', 'content': 'Yoder Wealth Management Inc. acquired a new position in Tesla, Inc. (NASDAQ:TSLA – Free Report) during the second quarter, according to its most recent Form 13F filing with the Securities and Exchang… [+6230 chars]'}, {'source': {'id': None, 'name': 'ETF Daily News'}, 'author': 'MarketBeat News', 'title': 'TCI Wealth Advisors Inc. Cuts Stake in Tesla, Inc. (NASDAQ:TSLA)', 'description': 'TCI Wealth Advisors Inc. cut its holdings in Tesla, Inc. (NASDAQ:TSLA – Free Report) by 21.9% in the second quarter, according to the company in its most recent disclosure with the Securities and Exchange Commission (SEC). The firm owned 5,488 shares of the e…', 'url': 'https://www.etfdailynews.com/2023/10/30/tci-wealth-advisors-inc-cuts-stake-in-tesla-inc-nasdaqtsla/', 'urlToImage': 'https://www.americanbankingnews.com/wp-content/timthumb/timthumb.php?src=https://www.marketbeat.com/logos/tesla-inc-logo.png?v=20221020135629&w=240&h=240&zc=2', 'publishedAt': '2023-10-30T16:32:47Z', 'content': 'TCI Wealth Advisors Inc. cut its holdings in Tesla, Inc. (NASDAQ:TSLA – Free Report) by 21.9% in the second quarter, according to the company in its most recent disclosure with the Securities and Exc… [+6522 chars]'}]\n",
      "['TSLA: 🔺2%\\nHeadline: Scotia Capital Inc. Raises Stock Position in Tesla, Inc. (NASDAQ:TSLA). \\nBrief: Scotia Capital Inc. lifted its holdings in shares of Tesla, Inc. (NASDAQ:TSLA – Free Report) by 19.1% in the second quarter, according to the company in its most recent filing with the Securities and Exchange Commission (SEC). The institutional investor owned…', 'TSLA: 🔺2%\\nHeadline: Yoder Wealth Management Inc. Takes Position in Tesla, Inc. (NASDAQ:TSLA). \\nBrief: Yoder Wealth Management Inc. acquired a new position in Tesla, Inc. (NASDAQ:TSLA – Free Report) during the second quarter, according to its most recent Form 13F filing with the Securities and Exchange Commission. The institutional investor acquired 793 shares…', 'TSLA: 🔺2%\\nHeadline: TCI Wealth Advisors Inc. Cuts Stake in Tesla, Inc. (NASDAQ:TSLA). \\nBrief: TCI Wealth Advisors Inc. cut its holdings in Tesla, Inc. (NASDAQ:TSLA – Free Report) by 21.9% in the second quarter, according to the company in its most recent disclosure with the Securities and Exchange Commission (SEC). The firm owned 5,488 shares of the e…']\n"
     ]
    },
    {
     "ename": "TwilioRestException",
     "evalue": "HTTP 401 error: Unable to create record: Authentication Error - invalid username",
     "output_type": "error",
     "traceback": [
      "\u001b[1;31m---------------------------------------------------------------------------\u001b[0m",
      "\u001b[1;31mTwilioRestException\u001b[0m                       Traceback (most recent call last)",
      "\u001b[1;32mc:\\Users\\lela\\Desktop\\daysofcode\\Day_36.ipynb Cell 2\u001b[0m line \u001b[0;36m8\n\u001b[0;32m     <a href='vscode-notebook-cell:/c%3A/Users/lela/Desktop/daysofcode/Day_36.ipynb#W1sZmlsZQ%3D%3D?line=77'>78</a>\u001b[0m \u001b[39m#TODO 8. - Send each article as a separate message via Twilio.\u001b[39;00m\n\u001b[0;32m     <a href='vscode-notebook-cell:/c%3A/Users/lela/Desktop/daysofcode/Day_36.ipynb#W1sZmlsZQ%3D%3D?line=78'>79</a>\u001b[0m \u001b[39mfor\u001b[39;00m article \u001b[39min\u001b[39;00m formatted_articles:\n\u001b[1;32m---> <a href='vscode-notebook-cell:/c%3A/Users/lela/Desktop/daysofcode/Day_36.ipynb#W1sZmlsZQ%3D%3D?line=79'>80</a>\u001b[0m     message \u001b[39m=\u001b[39m client\u001b[39m.\u001b[39;49mmessages\u001b[39m.\u001b[39;49mcreate(\n\u001b[0;32m     <a href='vscode-notebook-cell:/c%3A/Users/lela/Desktop/daysofcode/Day_36.ipynb#W1sZmlsZQ%3D%3D?line=80'>81</a>\u001b[0m         body\u001b[39m=\u001b[39;49marticle,\n\u001b[0;32m     <a href='vscode-notebook-cell:/c%3A/Users/lela/Desktop/daysofcode/Day_36.ipynb#W1sZmlsZQ%3D%3D?line=81'>82</a>\u001b[0m         from_\u001b[39m=\u001b[39;49mVIRTUAL_TWILIO_NUMBER,\n\u001b[0;32m     <a href='vscode-notebook-cell:/c%3A/Users/lela/Desktop/daysofcode/Day_36.ipynb#W1sZmlsZQ%3D%3D?line=82'>83</a>\u001b[0m         to\u001b[39m=\u001b[39;49mVERIFIED_NUMBER\n\u001b[0;32m     <a href='vscode-notebook-cell:/c%3A/Users/lela/Desktop/daysofcode/Day_36.ipynb#W1sZmlsZQ%3D%3D?line=83'>84</a>\u001b[0m     )\n",
      "File \u001b[1;32mc:\\Users\\lela\\AppData\\Local\\Programs\\Python\\Python311\\Lib\\site-packages\\twilio\\rest\\api\\v2010\\account\\message\\__init__.py:560\u001b[0m, in \u001b[0;36mMessageList.create\u001b[1;34m(self, to, status_callback, application_sid, max_price, provide_feedback, attempt, validity_period, force_delivery, content_retention, address_retention, smart_encoded, persistent_action, shorten_urls, schedule_type, send_at, send_as_mms, content_variables, risk_check, from_, messaging_service_sid, body, media_url, content_sid)\u001b[0m\n\u001b[0;32m    503\u001b[0m \u001b[39m\u001b[39m\u001b[39m\"\"\"\u001b[39;00m\n\u001b[0;32m    504\u001b[0m \u001b[39mCreate the MessageInstance\u001b[39;00m\n\u001b[0;32m    505\u001b[0m \n\u001b[1;32m   (...)\u001b[0m\n\u001b[0;32m    530\u001b[0m \u001b[39m:returns: The created MessageInstance\u001b[39;00m\n\u001b[0;32m    531\u001b[0m \u001b[39m\"\"\"\u001b[39;00m\n\u001b[0;32m    532\u001b[0m data \u001b[39m=\u001b[39m values\u001b[39m.\u001b[39mof(\n\u001b[0;32m    533\u001b[0m     {\n\u001b[0;32m    534\u001b[0m         \u001b[39m\"\u001b[39m\u001b[39mTo\u001b[39m\u001b[39m\"\u001b[39m: to,\n\u001b[1;32m   (...)\u001b[0m\n\u001b[0;32m    557\u001b[0m     }\n\u001b[0;32m    558\u001b[0m )\n\u001b[1;32m--> 560\u001b[0m payload \u001b[39m=\u001b[39m \u001b[39mself\u001b[39;49m\u001b[39m.\u001b[39;49m_version\u001b[39m.\u001b[39;49mcreate(\n\u001b[0;32m    561\u001b[0m     method\u001b[39m=\u001b[39;49m\u001b[39m\"\u001b[39;49m\u001b[39mPOST\u001b[39;49m\u001b[39m\"\u001b[39;49m,\n\u001b[0;32m    562\u001b[0m     uri\u001b[39m=\u001b[39;49m\u001b[39mself\u001b[39;49m\u001b[39m.\u001b[39;49m_uri,\n\u001b[0;32m    563\u001b[0m     data\u001b[39m=\u001b[39;49mdata,\n\u001b[0;32m    564\u001b[0m )\n\u001b[0;32m    566\u001b[0m \u001b[39mreturn\u001b[39;00m MessageInstance(\n\u001b[0;32m    567\u001b[0m     \u001b[39mself\u001b[39m\u001b[39m.\u001b[39m_version, payload, account_sid\u001b[39m=\u001b[39m\u001b[39mself\u001b[39m\u001b[39m.\u001b[39m_solution[\u001b[39m\"\u001b[39m\u001b[39maccount_sid\u001b[39m\u001b[39m\"\u001b[39m]\n\u001b[0;32m    568\u001b[0m )\n",
      "File \u001b[1;32mc:\\Users\\lela\\AppData\\Local\\Programs\\Python\\Python311\\Lib\\site-packages\\twilio\\base\\version.py:465\u001b[0m, in \u001b[0;36mVersion.create\u001b[1;34m(self, method, uri, params, data, headers, auth, timeout, allow_redirects)\u001b[0m\n\u001b[0;32m    451\u001b[0m \u001b[39m\u001b[39m\u001b[39m\"\"\"\u001b[39;00m\n\u001b[0;32m    452\u001b[0m \u001b[39mCreate a resource instance.\u001b[39;00m\n\u001b[0;32m    453\u001b[0m \u001b[39m\"\"\"\u001b[39;00m\n\u001b[0;32m    454\u001b[0m response \u001b[39m=\u001b[39m \u001b[39mself\u001b[39m\u001b[39m.\u001b[39mrequest(\n\u001b[0;32m    455\u001b[0m     method,\n\u001b[0;32m    456\u001b[0m     uri,\n\u001b[1;32m   (...)\u001b[0m\n\u001b[0;32m    462\u001b[0m     allow_redirects\u001b[39m=\u001b[39mallow_redirects,\n\u001b[0;32m    463\u001b[0m )\n\u001b[1;32m--> 465\u001b[0m \u001b[39mreturn\u001b[39;00m \u001b[39mself\u001b[39;49m\u001b[39m.\u001b[39;49m_parse_create(method, uri, response)\n",
      "File \u001b[1;32mc:\\Users\\lela\\AppData\\Local\\Programs\\Python\\Python311\\Lib\\site-packages\\twilio\\base\\version.py:436\u001b[0m, in \u001b[0;36mVersion._parse_create\u001b[1;34m(self, method, uri, response)\u001b[0m\n\u001b[0;32m    432\u001b[0m \u001b[39m\u001b[39m\u001b[39m\"\"\"\u001b[39;00m\n\u001b[0;32m    433\u001b[0m \u001b[39mParse create response JSON\u001b[39;00m\n\u001b[0;32m    434\u001b[0m \u001b[39m\"\"\"\u001b[39;00m\n\u001b[0;32m    435\u001b[0m \u001b[39mif\u001b[39;00m response\u001b[39m.\u001b[39mstatus_code \u001b[39m<\u001b[39m \u001b[39m200\u001b[39m \u001b[39mor\u001b[39;00m response\u001b[39m.\u001b[39mstatus_code \u001b[39m>\u001b[39m\u001b[39m=\u001b[39m \u001b[39m300\u001b[39m:\n\u001b[1;32m--> 436\u001b[0m     \u001b[39mraise\u001b[39;00m \u001b[39mself\u001b[39m\u001b[39m.\u001b[39mexception(method, uri, response, \u001b[39m\"\u001b[39m\u001b[39mUnable to create record\u001b[39m\u001b[39m\"\u001b[39m)\n\u001b[0;32m    438\u001b[0m \u001b[39mreturn\u001b[39;00m json\u001b[39m.\u001b[39mloads(response\u001b[39m.\u001b[39mtext)\n",
      "\u001b[1;31mTwilioRestException\u001b[0m: HTTP 401 error: Unable to create record: Authentication Error - invalid username"
     ]
    }
   ],
   "source": [
    "import requests\n",
    "from twilio.rest import Client\n",
    "\n",
    "VIRTUAL_TWILIO_NUMBER = \"your virtual twilio number\"\n",
    "VERIFIED_NUMBER = \"your own phone number verified with Twilio\"\n",
    "\n",
    "STOCK_NAME = \"TSLA\"\n",
    "COMPANY_NAME = \"Tesla Inc\"\n",
    "\n",
    "STOCK_ENDPOINT = \"https://www.alphavantage.co/query\"\n",
    "NEWS_ENDPOINT = \"https://newsapi.org/v2/everything\"\n",
    "\n",
    "STOCK_API_KEY = \"9IJ9EYTSA7ZXPIYS\"\n",
    "NEWS_API_KEY = \"cb967cc95a344134908b3980e614ea80\"\n",
    "TWILIO_SID = \" ACc155214d63132a905e7761aac9ddf498\"\n",
    "TWILIO_AUTH_TOKEN = \" 17911c0d04b4c15540e4145e23de493c\"\n",
    "\n",
    "## STEP 1: Use https://www.alphavantage.co/documentation/#daily\n",
    "# When stock price increase/decreases by 5% between yesterday and the day before yesterday then print(\"Get News\").\n",
    "\n",
    "#Get yesterday's closing stock price\n",
    "stock_params = {\n",
    "    \"function\": \"TIME_SERIES_DAILY\",\n",
    "    \"symbol\": STOCK_NAME,\n",
    "    \"apikey\": STOCK_API_KEY,\n",
    "}\n",
    "\n",
    "response = requests.get(STOCK_ENDPOINT, params=stock_params)\n",
    "data = response.json()[\"Time Series (Daily)\"]\n",
    "data_list = [value for (key, value) in data.items()]\n",
    "yesterday_data = data_list[0]\n",
    "yesterday_closing_price = yesterday_data[\"4. close\"]\n",
    "print(yesterday_closing_price)\n",
    "\n",
    "#Get the day before yesterday's closing stock price\n",
    "day_before_yesterday_data = data_list[1]\n",
    "day_before_yesterday_closing_price = day_before_yesterday_data[\"4. close\"]\n",
    "print(day_before_yesterday_closing_price)\n",
    "\n",
    "#Find the positive difference between 1 and 2. e.g. 40 - 20 = -20, but the positive difference is 20. Hint: https://www.w3schools.com/python/ref_func_abs.asp\n",
    "difference = float(yesterday_closing_price) - float(day_before_yesterday_closing_price)\n",
    "up_down = None\n",
    "if difference > 0:\n",
    "    up_down = \"🔺\"\n",
    "else:\n",
    "    up_down = \"🔻\"\n",
    "\n",
    "#Work out the percentage difference in price between closing price yesterday and closing price the day before yesterday.\n",
    "diff_percent = round((difference / float(yesterday_closing_price)) * 100)\n",
    "print(diff_percent)\n",
    "\n",
    "\n",
    "    ## STEP 2: Instead of printing (\"Get News\"), actually get the first 3 news pieces for the COMPANY_NAME.\n",
    "\n",
    "#Instead of printing (\"Get News\"), use the News API to get articles related to the COMPANY_NAME.\n",
    "#If difference percentage is greater than 5 then print(\"Get News\").\n",
    "if abs(diff_percent) > 1:\n",
    "    news_params = {\n",
    "        \"apiKey\": NEWS_API_KEY,\n",
    "        \"qInTitle\": COMPANY_NAME,\n",
    "    }\n",
    "\n",
    "    news_response = requests.get(NEWS_ENDPOINT, params=news_params)\n",
    "    articles = news_response.json()[\"articles\"]\n",
    "\n",
    "    #Use Python slice operator to create a list that contains the first 3 articles. Hint: https://stackoverflow.com/questions/509211/understanding-slice-notation\n",
    "    three_articles = articles[:3]\n",
    "    print(three_articles)\n",
    "\n",
    "    ## STEP 3: Use Twilio to send a seperate message with each article's title and description to your phone number.\n",
    "\n",
    "    #Create a new list of the first 3 article's headline and description using list comprehension.\n",
    "    formatted_articles = [f\"{STOCK_NAME}: {up_down}{diff_percent}%\\nHeadline: {article['title']}. \\nBrief: {article['description']}\" for article in three_articles]\n",
    "    print(formatted_articles)\n",
    "    #Send each article as a separate message via Twilio.\n",
    "    client = Client(TWILIO_SID, TWILIO_AUTH_TOKEN)\n",
    "\n",
    "    #TODO 8. - Send each article as a separate message via Twilio.\n",
    "    for article in formatted_articles:\n",
    "        message = client.messages.create(\n",
    "            body=article,\n",
    "            from_=VIRTUAL_TWILIO_NUMBER,\n",
    "            to=VERIFIED_NUMBER\n",
    "        )\n"
   ]
  }
 ],
 "metadata": {
  "kernelspec": {
   "display_name": "Python 3",
   "language": "python",
   "name": "python3"
  },
  "language_info": {
   "codemirror_mode": {
    "name": "ipython",
    "version": 3
   },
   "file_extension": ".py",
   "mimetype": "text/x-python",
   "name": "python",
   "nbconvert_exporter": "python",
   "pygments_lexer": "ipython3",
   "version": "3.11.5"
  }
 },
 "nbformat": 4,
 "nbformat_minor": 2
}
