{
 "cells": [
  {
   "cell_type": "markdown",
   "metadata": {},
   "source": [
    "# Day_23\n",
    "## The Turtle Crossing Capstone Project:\n",
    "\n",
    "- Move the turtle with keypress\n",
    "- create and move the cars\n",
    "- Detect collision with cars\n",
    "- Detect when the turtle reaches the other sides\n",
    "- Create the scoreboard\n"
   ]
  },
  {
   "cell_type": "code",
   "execution_count": null,
   "metadata": {},
   "outputs": [],
   "source": [
    "import time\n",
    "from turtle import Screen\n",
    "from player import Player\n",
    "from car_manager import CarManager\n",
    "from scoreboard import Scoreboard\n",
    "\n",
    "\n",
    "screen = Screen()\n",
    "screen.setup(width =600 , height = 600)\n",
    "screen.tracer(0)\n",
    "\n",
    "player = Player()\n",
    "car_manager = CarManager()\n",
    "scoreboard = Scoreboard()\n",
    "\n",
    "screen.listen()\n",
    "screen.onkey(player.go_up( ), \"Up\")\n",
    "\n",
    "game_is_on = True\n",
    "while game_is_on:\n",
    "    time.sleep(0.1)\n",
    "    screen.update()\n",
    "\n",
    "    car_manager.create_car()\n",
    "    car_manager.move_cars()\n",
    "\n",
    "# detect the collision with wall\n",
    "\n",
    "for car in car_manager.all_cars:\n",
    "    if car.distance(player) < 20:\n",
    "        game_is_on = False\n",
    "        scoreboard.game_over()\n",
    "\n",
    "\n",
    "# detect successful crossing\n",
    "\n",
    "if player.is_at_finish_line():\n",
    "    player.go_to_start()\n",
    "    car_manager.level_up()\n",
    "    scoreboard.incease_level() \n",
    "\n",
    "\n",
    "screen.exitonclick()"
   ]
  }
 ],
 "metadata": {
  "kernelspec": {
   "display_name": "Python 3",
   "language": "python",
   "name": "python3"
  },
  "language_info": {
   "codemirror_mode": {
    "name": "ipython",
    "version": 3
   },
   "file_extension": ".py",
   "mimetype": "text/x-python",
   "name": "python",
   "nbconvert_exporter": "python",
   "pygments_lexer": "ipython3",
   "version": "3.11.5"
  }
 },
 "nbformat": 4,
 "nbformat_minor": 2
}
