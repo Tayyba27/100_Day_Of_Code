{
 "cells": [
  {
   "cell_type": "markdown",
   "metadata": {},
   "source": [
    "# Day_27\n",
    "### Graphic User interface & Function argument:\n",
    "- Unit converter Program\n",
    "- GUI \n",
    "- Tkinter\n"
   ]
  },
  {
   "cell_type": "code",
   "execution_count": 1,
   "metadata": {},
   "outputs": [],
   "source": [
    "#creating window and lable\n",
    "import tkinter\n",
    "\n",
    "window = tkinter.Tk()\n",
    "window.title(\"My First GUI Progam\")\n",
    "window.minsize(width = 500 , height = 300)\n",
    "\n",
    "\n",
    "#label\n",
    "my_label = tkinter.Label(text = \"I am a Lable \" , font = (\"Arial\" , 24 ))\n",
    "my_label.pack()\n"
   ]
  },
  {
   "cell_type": "markdown",
   "metadata": {},
   "source": [
    "### Advanced Arguments:\n",
    "- Keyword Arguments\n",
    "- Arguments with Deflaut values\n",
    "- "
   ]
  },
  {
   "cell_type": "markdown",
   "metadata": {},
   "source": [
    "# Quiz\n",
    "### with Default Values"
   ]
  },
  {
   "cell_type": "code",
   "execution_count": 2,
   "metadata": {},
   "outputs": [
    {
     "name": "stdout",
     "output_type": "stream",
     "text": [
      "1 4 6\n"
     ]
    }
   ],
   "source": [
    "#Quiz :1\n",
    "def foo(a , b= 4 , c= 6):\n",
    "    print(a, b,c)\n",
    "\n",
    "\n",
    "foo(1)    "
   ]
  },
  {
   "cell_type": "code",
   "execution_count": 3,
   "metadata": {},
   "outputs": [
    {
     "name": "stdout",
     "output_type": "stream",
     "text": [
      "4 9 6\n"
     ]
    }
   ],
   "source": [
    "# qUIX: 2\n",
    "def foo(a , b= 4 , c= 6):\n",
    "    print(a, b,c)\n",
    "\n",
    "foo(4,9)  "
   ]
  },
  {
   "cell_type": "code",
   "execution_count": 4,
   "metadata": {},
   "outputs": [
    {
     "name": "stdout",
     "output_type": "stream",
     "text": [
      "1 7 9\n"
     ]
    }
   ],
   "source": [
    "#Quix : 3\n",
    "def foo(a , b= 4 , c= 6):\n",
    "    print(a, b,c)\n",
    "\n",
    "\n",
    "foo(1, 7 , 9)  "
   ]
  },
  {
   "cell_type": "code",
   "execution_count": 5,
   "metadata": {},
   "outputs": [
    {
     "name": "stdout",
     "output_type": "stream",
     "text": [
      "20 4 6\n"
     ]
    }
   ],
   "source": [
    "# Quiz: 4\n",
    "def foo(a , b= 4 , c= 6):\n",
    "    print(a, b,c)\n",
    "\n",
    "foo(20 , c=6)  "
   ]
  },
  {
   "cell_type": "code",
   "execution_count": 7,
   "metadata": {},
   "outputs": [
    {
     "name": "stdout",
     "output_type": "stream",
     "text": [
      "1\n"
     ]
    }
   ],
   "source": [
    "def add(*args):\n",
    "    sum = 0\n",
    "    for n in args:\n",
    "        sum += n\n",
    "        return sum\n",
    "    \n",
    "\n",
    "print(add(1,3,4,2,6,7,8))    \n"
   ]
  },
  {
   "cell_type": "code",
   "execution_count": 11,
   "metadata": {},
   "outputs": [
    {
     "name": "stdout",
     "output_type": "stream",
     "text": [
      "{'add': 3, 'multiply': 5}\n",
      "40\n"
     ]
    }
   ],
   "source": [
    "# **kwargs: Keyworded Variable-Length Arguments\n",
    "def calculate(n, **kwargs):\n",
    "    print(kwargs)\n",
    "    # for key, value in kwargs.items():\n",
    "    #     print(key)\n",
    "    #     print(value)\n",
    "    n += kwargs[\"add\"]\n",
    "    n *= kwargs[\"multiply\"]\n",
    "    print(n)\n",
    "\n",
    "\n",
    "calculate(5, add=3, multiply=5)\n",
    "\n",
    "\n"
   ]
  },
  {
   "cell_type": "code",
   "execution_count": 9,
   "metadata": {},
   "outputs": [
    {
     "name": "stdout",
     "output_type": "stream",
     "text": [
      "Skyline\n"
     ]
    }
   ],
   "source": [
    "# How to use a **kwargs dictionary safely\n",
    "class Car:\n",
    "    def __init__(self, **kw):\n",
    "        self.make = kw.get(\"make\")\n",
    "        self.model = kw.get(\"model\")\n",
    "        self.colour = kw.get(\"colour\")\n",
    "        self.seats = kw.get(\"seats\")\n",
    "\n",
    "\n",
    "my_car = Car(make=\"Nissan\", model=\"Skyline\")\n",
    "print(my_car.model)\n"
   ]
  },
  {
   "cell_type": "code",
   "execution_count": 12,
   "metadata": {},
   "outputs": [
    {
     "name": "stdout",
     "output_type": "stream",
     "text": [
      "(1, 2, 3, 4)\n"
     ]
    }
   ],
   "source": [
    "def test(*args):\n",
    "    print(args)\n",
    "\n",
    "\n",
    "test(1,2,3,4)"
   ]
  },
  {
   "cell_type": "code",
   "execution_count": 13,
   "metadata": {},
   "outputs": [
    {
     "name": "stdout",
     "output_type": "stream",
     "text": [
      "4 (7, 3, 0) {'x': 10, 'y': 64}\n"
     ]
    }
   ],
   "source": [
    "def all_aboard(a , *args , **kw):\n",
    "    print(a , args , kw)\n",
    "\n",
    "\n",
    "all_aboard(4,7,3,0,x= 10 , y = 64)    "
   ]
  },
  {
   "cell_type": "code",
   "execution_count": 14,
   "metadata": {},
   "outputs": [
    {
     "name": "stdout",
     "output_type": "stream",
     "text": [
      "Some text to begin with.\n",
      "Example of multi-line text entry.\n",
      "\n",
      "Apple\n",
      "1\n",
      "0\n",
      "0\n",
      "0\n",
      "1\n",
      "2\n",
      "3\n",
      "4\n",
      "Do something\n",
      "1\n",
      "6\n",
      "15\n",
      "21\n",
      "24\n",
      "28\n",
      "32\n",
      "34\n",
      "35\n",
      "38\n",
      "43\n",
      "46\n",
      "47\n",
      "53\n",
      "62\n",
      "66\n",
      "65\n",
      "63\n",
      "62\n",
      "59\n",
      "57\n",
      "56\n",
      "53\n",
      "49\n",
      "35\n",
      "32\n",
      "29\n",
      "28\n",
      "26\n",
      "25\n",
      "24\n",
      "1\n"
     ]
    }
   ],
   "source": [
    "from tkinter import *\n",
    "\n",
    "def action():\n",
    "    print(\"Do something\")\n",
    "\n",
    "#calls action() when pressed\n",
    "button = Button(text=\"Click Me\", command=action)\n",
    "button.pack()\n",
    "\n",
    "#Entries\n",
    "entry = Entry(width=30)\n",
    "#Add some text to begin with\n",
    "entry.insert(END, string=\"Some text to begin with.\")\n",
    "#Gets text in entry\n",
    "print(entry.get())\n",
    "entry.pack()\n",
    "\n",
    "#Text\n",
    "text = Text(height=5, width=30)\n",
    "#Puts cursor in textbox.\n",
    "text.focus()\n",
    "#Adds some text to begin with.\n",
    "text.insert(END, \"Example of multi-line text entry.\")\n",
    "#Get's current value in textbox at line 1, character 0\n",
    "print(text.get(\"1.0\", END))\n",
    "text.pack()\n",
    "\n",
    "#Spinbox\n",
    "def spinbox_used():\n",
    "    #gets the current value in spinbox.\n",
    "    print(spinbox.get())\n",
    "spinbox = Spinbox(from_=0, to=10, width=5, command=spinbox_used)\n",
    "spinbox.pack()\n",
    "\n",
    "#Scale\n",
    "#Called with current scale value.\n",
    "def scale_used(value):\n",
    "    print(value)\n",
    "scale = Scale(from_=0, to=100, command=scale_used)\n",
    "scale.pack()\n",
    "\n",
    "#Checkbutton\n",
    "def checkbutton_used():\n",
    "    #Prints 1 if On button checked, otherwise 0.\n",
    "    print(checked_state.get())\n",
    "#variable to hold on to checked state, 0 is off, 1 is on.\n",
    "checked_state = IntVar()\n",
    "checkbutton = Checkbutton(text=\"Is On?\", variable=checked_state, command=checkbutton_used)\n",
    "checked_state.get()\n",
    "checkbutton.pack()\n",
    "\n",
    "#Radiobutton\n",
    "def radio_used():\n",
    "    print(radio_state.get())\n",
    "#Variable to hold on to which radio button value is checked.\n",
    "radio_state = IntVar()\n",
    "radiobutton1 = Radiobutton(text=\"Option1\", value=1, variable=radio_state, command=radio_used)\n",
    "radiobutton2 = Radiobutton(text=\"Option2\", value=2, variable=radio_state, command=radio_used)\n",
    "radiobutton1.pack()\n",
    "radiobutton2.pack()\n",
    "\n",
    "\n",
    "#Listbox\n",
    "def listbox_used(event):\n",
    "    # Gets current selection from listbox\n",
    "    print(listbox.get(listbox.curselection()))\n",
    "\n",
    "listbox = Listbox(height=4)\n",
    "fruits = [\"Apple\", \"Pear\", \"Orange\", \"Banana\"]\n",
    "for item in fruits:\n",
    "    listbox.insert(fruits.index(item), item)\n",
    "listbox.bind(\"<<ListboxSelect>>\", listbox_used)\n",
    "listbox.pack()\n",
    "window.mainloop()\n",
    "\n"
   ]
  },
  {
   "cell_type": "code",
   "execution_count": 16,
   "metadata": {},
   "outputs": [
    {
     "name": "stdout",
     "output_type": "stream",
     "text": [
      "\n",
      "I got clicked\n",
      "I got clicked\n"
     ]
    }
   ],
   "source": [
    "# Final  Code of my First GUI program:\n",
    "\n",
    "from tkinter import *\n",
    "\n",
    "\n",
    "def button_clicked():\n",
    "    print(\"I got clicked\")\n",
    "    new_text = input.get()\n",
    "    my_label.config(text=new_text)\n",
    "\n",
    "\n",
    "window = Tk()\n",
    "window.title(\"My First GUI Program\")\n",
    "window.minsize(width=500, height=300)\n",
    "window.config(padx=100, pady=200)\n",
    "\n",
    "#Label\n",
    "my_label = Label(text=\"I Am a Label\", font=(\"Arial\", 24, \"bold\"))\n",
    "my_label.config(text=\"New Text\")\n",
    "my_label.grid(column=0, row=0)\n",
    "my_label.config(padx=50, pady=50)\n",
    "\n",
    "#Button\n",
    "button = Button(text=\"Click Me\", command=button_clicked)\n",
    "button.grid(column=1, row=1)\n",
    "\n",
    "new_button = Button(text=\"New Button\")\n",
    "new_button.grid(column=2, row=0)\n",
    "\n",
    "#Entry\n",
    "input = Entry(width=10)\n",
    "print(input.get())\n",
    "input.grid(column=3, row=2)\n",
    "\n",
    "\n",
    "window.mainloop()"
   ]
  },
  {
   "cell_type": "markdown",
   "metadata": {},
   "source": [
    "# Mile to Kilometer  Converter Project:\n"
   ]
  },
  {
   "cell_type": "code",
   "execution_count": 24,
   "metadata": {},
   "outputs": [],
   "source": [
    "from tkinter import *\n",
    "\n",
    "def miles_to_km():\n",
    "    miles = float(miles_input.get())\n",
    "    km = miles * 1.689\n",
    "    kilometer_result_label.config(text= f\"{km}\")\n",
    "\n",
    "\n",
    "window = Tk()\n",
    "window.title(\"Mile to Kilometer Conveter Project\")\n",
    "window.config(padx = 20 , pady= 20)\n",
    "\n",
    "miles_input = Entry(width = 7)\n",
    "miles_input.grid(column = 1, row = 0)\n",
    "\n",
    "miles_labels = Label(text = \"Miles\")\n",
    "miles_labels.grid(column = 0 , row = 1)\n",
    "\n",
    "is_equal_label = Label(text = \"is equal to \") \n",
    "is_equal_label.grid(column =0 , row =1 ) \n",
    "\n",
    "kilometer_result_label = Label(text= \"0\")\n",
    "kilometer_result_label.grid(column = 1 , row = 1)\n",
    "\n",
    "kailometer_label = Label(text = \"km\")\n",
    "kailometer_label.grid(column = 2 , row = 1)\n",
    "\n",
    "calculate_button = Button(text = \"calculate\" , command = miles_to_km)\n",
    "calculate_button.grid(column = 1 , row = 2)\n"
   ]
  }
 ],
 "metadata": {
  "kernelspec": {
   "display_name": "Python 3",
   "language": "python",
   "name": "python3"
  },
  "language_info": {
   "codemirror_mode": {
    "name": "ipython",
    "version": 3
   },
   "file_extension": ".py",
   "mimetype": "text/x-python",
   "name": "python",
   "nbconvert_exporter": "python",
   "pygments_lexer": "ipython3",
   "version": "3.11.5"
  }
 },
 "nbformat": 4,
 "nbformat_minor": 2
}
