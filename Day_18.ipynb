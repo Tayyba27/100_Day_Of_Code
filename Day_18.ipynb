{
 "cells": [
  {
   "cell_type": "markdown",
   "metadata": {},
   "source": [
    "# Day_18\n",
    "### Turtle Graphic"
   ]
  },
  {
   "cell_type": "code",
   "execution_count": 4,
   "metadata": {},
   "outputs": [],
   "source": [
    "from turtle import Turtle \n",
    "\n",
    "timmy_the_turtle = Turtle()\n"
   ]
  },
  {
   "cell_type": "code",
   "execution_count": 5,
   "metadata": {},
   "outputs": [],
   "source": [
    "timmy_the_turtle.shape(\"turtle\")\n",
    "timmy_the_turtle.color(\"red\")"
   ]
  },
  {
   "cell_type": "markdown",
   "metadata": {},
   "source": [
    " TK ----- Graphic User Interface\n",
    " "
   ]
  },
  {
   "cell_type": "markdown",
   "metadata": {},
   "source": [
    "### Draw a Square "
   ]
  },
  {
   "cell_type": "code",
   "execution_count": 6,
   "metadata": {},
   "outputs": [],
   "source": [
    "timmy_the_turtle.forward(100)\n",
    "timmy_the_turtle.left(90)\n",
    "timmy_the_turtle.forward(100)\n",
    "timmy_the_turtle.left(90)\n",
    "timmy_the_turtle.forward(100)\n",
    "timmy_the_turtle.left(90)\n",
    "timmy_the_turtle.forward(100)\n",
    "timmy_the_turtle.left(90)"
   ]
  },
  {
   "cell_type": "code",
   "execution_count": 8,
   "metadata": {},
   "outputs": [],
   "source": [
    "for _ in range(4):\n",
    "    timmy_the_turtle.forward(100)\n",
    "    timmy_the_turtle.left(90)"
   ]
  },
  {
   "cell_type": "markdown",
   "metadata": {},
   "source": [
    "### Draw Different Shape:\n"
   ]
  },
  {
   "cell_type": "code",
   "execution_count": 9,
   "metadata": {},
   "outputs": [],
   "source": [
    "timmy_the_turtle.forward(100)\n",
    "timmy_the_turtle.right(90)\n",
    "timmy_the_turtle.forward(100)\n",
    "timmy_the_turtle.right(90)\n",
    "timmy_the_turtle.forward(100)\n",
    "timmy_the_turtle.right(90)\n",
    "timmy_the_turtle.forward(100)\n",
    "timmy_the_turtle.right(90)"
   ]
  },
  {
   "cell_type": "markdown",
   "metadata": {},
   "source": [
    "### Second Challenge:\n",
    "#### Draw a Dashed Line"
   ]
  },
  {
   "cell_type": "code",
   "execution_count": 14,
   "metadata": {},
   "outputs": [],
   "source": [
    "tim = timmy_the_turtle\n",
    "import turtle as t \n",
    "\n",
    "tim = t.Turtle()\n",
    "\n",
    "for _ in range(15):\n",
    "    tim.forward(10)\n",
    "    tim.penup()\n",
    "    tim.forward(10)\n",
    "    tim.pendown()"
   ]
  },
  {
   "cell_type": "markdown",
   "metadata": {},
   "source": [
    "### Thired Challenge\n",
    "### Draw different Shape"
   ]
  },
  {
   "cell_type": "code",
   "execution_count": 16,
   "metadata": {},
   "outputs": [],
   "source": [
    "# Pentagon\n",
    "import turtle as t\n",
    "\n",
    "tim = t.Turtle()\n",
    "\n",
    "num_sides = 5\n",
    "\n",
    "for _ in range(num_sides):\n",
    "   angle = 360 / num_sides\n",
    "   tim.forward(100)\n",
    "   tim.right(angle)"
   ]
  },
  {
   "cell_type": "code",
   "execution_count": 17,
   "metadata": {},
   "outputs": [],
   "source": [
    "# Ocatagon\n",
    "import turtle as t\n",
    "\n",
    "tim = t.Turtle()\n",
    "\n",
    "num_sides = 8\n",
    "\n",
    "for _ in range(num_sides):\n",
    "   angle = 360 / num_sides\n",
    "   tim.forward(100)\n",
    "   tim.right(angle)"
   ]
  },
  {
   "cell_type": "code",
   "execution_count": 18,
   "metadata": {},
   "outputs": [],
   "source": [
    "import turtle as t\n",
    "\n",
    "tim = t.Turtle()\n",
    "\n",
    "num_sides = 3\n",
    "\n",
    "for _ in range(num_sides):\n",
    "   angle = 360 / num_sides\n",
    "   tim.forward(100)\n",
    "   tim.right(angle)"
   ]
  },
  {
   "cell_type": "code",
   "execution_count": 19,
   "metadata": {},
   "outputs": [],
   "source": [
    "def draw_shape(num_sides):\n",
    "   angle = 360 / num_sides\n",
    "for shape_side_n in range(3 , 11):\n",
    "    draw_shape(shape_side_n)"
   ]
  },
  {
   "cell_type": "code",
   "execution_count": 35,
   "metadata": {},
   "outputs": [],
   "source": [
    "import turtle as t \n",
    "import random \n",
    "\n",
    "tim = t.Turtle()\n",
    "\n",
    "colour = [\"CornflowerBlue\" , \"DarkOrchid\" , \"IndianRed\" , \"DeepSkyBlue\" , \" LightGreen\" , \"wheat\" , \"SlateGray\" , \"SeaGreen\"]\n",
    "\n",
    "\n",
    "\n",
    "def draw_shape(num_sides):\n",
    "   angle = 360 / num_sides\n",
    "\n",
    "for shape_side_n in range(3 , 11):\n",
    "   draw_shape(shape_side_n)"
   ]
  },
  {
   "cell_type": "code",
   "execution_count": 39,
   "metadata": {},
   "outputs": [],
   "source": [
    "import turtle as t \n",
    "import random \n",
    "\n",
    "tim = t.Turtle()\n",
    "\n",
    "colours = [\"CornflowerBlue\" , \"DarkOrchid\" , \"IndianRed\" , \"DeepSkyBlue\"  , \"wheat\" , \"SlateGray\" , \"SeaGreen\"]\n",
    "direction = [0 , 90 , 180 , 270]\n",
    "tim.pensize(15)\n",
    "\n",
    "for _  in range(200):\n",
    "   tim.color(random.choice(colours))\n",
    "   tim.forward(30)\n",
    "   tim.setheading(random.choice(direction))"
   ]
  },
  {
   "cell_type": "markdown",
   "metadata": {},
   "source": [
    "## Tuple:\n",
    "- DataType in python , tuple very similar  to list\n",
    "- tuple are immutable \n",
    "- list are mutable\n",
    "list(my_tuple) to convert the tuple into list\n",
    "\n",
    "### RGB Calculator:\n"
   ]
  },
  {
   "cell_type": "code",
   "execution_count": 46,
   "metadata": {},
   "outputs": [],
   "source": [
    "import turtle as t \n",
    "import random \n",
    "\n",
    "tim = t.Turtle()\n",
    "t.colormode(255)\n",
    "\n",
    "def random_color():\n",
    "   r = random.randint(0 , 255)\n",
    "   g = random.randint(0 , 255)\n",
    "   b = random.randint(0 , 255)\n",
    "   random_color = (r , g , b)\n",
    "   return random_color\n",
    "\n",
    "\n",
    "direction = [0 , 90 , 180 , 270]\n",
    "tim.pensize(15)\n",
    "\n",
    "for _  in range(200):\n",
    "   tim.color(random_color())\n",
    "   tim.forward(30)\n",
    "   tim.setheading(random.choice(direction))"
   ]
  },
  {
   "cell_type": "markdown",
   "metadata": {},
   "source": [
    "# Final Project :\n",
    "###  Make a Spirograph\n"
   ]
  },
  {
   "cell_type": "code",
   "execution_count": 52,
   "metadata": {},
   "outputs": [],
   "source": [
    "import turtle as t \n",
    "import random \n",
    "\n",
    "tim = t.Turtle()\n",
    "t.colormode(255)\n",
    "\n",
    "def random_color():\n",
    "   r = random.randint(0 , 255)\n",
    "   g = random.randint(0 , 255)\n",
    "   b = random.randint(0 , 255)\n",
    "   color = (r , g , b)\n",
    "   return color\n",
    "\n",
    "tim.speed(\"fastest\")\n",
    "\n",
    "def draw_spirograph(size_of_gap):\n",
    "\n",
    "   for _ in range(int(360 / size_of_gap)):\n",
    "       tim.color(random_color())\n",
    "       tim.circle(100)\n",
    "       tim.setheading(tim.heading() + size_of_gap)\n",
    "\n",
    "draw_spirograph(5)\n",
    "\n",
    "\n",
    "screen = t.Screen()\n",
    "screen.exitonclick()\n",
    "\n"
   ]
  },
  {
   "cell_type": "markdown",
   "metadata": {},
   "source": [
    "### Million Dollar Painting:\n"
   ]
  },
  {
   "cell_type": "code",
   "execution_count": null,
   "metadata": {},
   "outputs": [],
   "source": [
    "import turtle as turtle_module\n",
    "import random\n",
    "\n",
    "turtle_module.colormode(255)\n",
    "tim = turtle_module.Turtle()\n",
    "tim.speed(\"fastest\")\n",
    "tim.penup()\n",
    "tim.hideturtle()\n",
    "color_list = [(202, 164, 109), (238, 240, 245), (150, 75, 49), (223, 201, 135), (52, 93, 124), (172, 154, 40), (140, 30, 19), (133, 163, 185), (198, 91, 71), (46, 122, 86), (72, 43, 35), (145, 178, 148), (13, 99, 71), (233, 175, 164), (161, 142, 158), (105, 74, 77), (55, 46, 50), (183, 205, 171), (36, 60, 74), (18, 86, 90), (81, 148, 129), (148, 17, 20), (14, 70, 64), (30, 68, 100), (107, 127, 153), (174, 94, 97), (176, 192, 209)]\n",
    "tim.setheading(225)\n",
    "tim.forward(300)\n",
    "tim.setheading(0)\n",
    "number_of_dots = 100\n",
    "\n",
    "for dot_count in range(1, number_of_dots + 1):\n",
    "    tim.dot(20, random.choice(color_list))\n",
    "    tim.forward(50)\n",
    "\n",
    "    if dot_count % 10 == 0:\n",
    "        tim.setheading(90)\n",
    "        tim.forward(50)\n",
    "        tim.setheading(180)\n",
    "        tim.forward(500)\n",
    "        tim.setheading(0)\n",
    "\n",
    "\n",
    "\n",
    "screen = turtle_module.Screen()\n",
    "screen.exitonclick()"
   ]
  }
 ],
 "metadata": {
  "kernelspec": {
   "display_name": "Python 3",
   "language": "python",
   "name": "python3"
  },
  "language_info": {
   "codemirror_mode": {
    "name": "ipython",
    "version": 3
   },
   "file_extension": ".py",
   "mimetype": "text/x-python",
   "name": "python",
   "nbconvert_exporter": "python",
   "pygments_lexer": "ipython3",
   "version": "3.11.5"
  },
  "orig_nbformat": 4
 },
 "nbformat": 4,
 "nbformat_minor": 2
}
